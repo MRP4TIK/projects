{
 "cells": [
  {
   "cell_type": "markdown",
   "id": "0e17d0f0",
   "metadata": {},
   "source": [
    "<div style=\"border:solid Purple 2px; padding: 40px\">\n",
    "\n",
    "<b>Привет, Александр!👋\n",
    "\n",
    "Меня зовут Эльвира, я буду ревьюером твоего проекта. Предлагаю общаться на «ты», но если это не удобно - дай мне знать, и мы перейдем на «вы».\n",
    "\n",
    "\n",
    "Ты можешь найти мои комментарии, обозначенные <font color='green'>зеленым</font>, <font color='gold'>желтым</font> и <font color='red'>красным</font> цветами, например:\n",
    "\n",
    "\n",
    "<div class=\"alert alert-success\">\n",
    "<h2> Комментарий ревьюера 😊<a class=\"tocSkip\"> </h2>\n",
    "    \n",
    "Такими комментариями я буду помечать отлично проделаную работу😉\n",
    "</div>\n",
    "    \n",
    "<div class=\"alert alert-warning\">\n",
    "<h2> Комментарий ревьюера 🤓<a class=\"tocSkip\"> </h2>\n",
    "        \n",
    "В таких комментариях я постараюсь подсказать тебе более элегантное или легкое решение, некоторые хитрости и фишки. Части проекта, помеченные такими комментариями, можно не исправлять, но рекомендую обратить на них внимание.</div>\n",
    "\n",
    "<div class=\"alert alert-block alert-danger\">\n",
    "<h2> Комментарий ревьюера ⛔️<a class=\"tocSkip\"></h2>\n",
    "    \n",
    "В случае, когда решение на отдельном шаге требует существенной переработки и внесения правок. Если ты видишь такой комментарий, значит здесть есть недочет, который следует исправить.\n",
    "</div>\n",
    "\n",
    "Ты также можешь реагировать на мои комментарии своими, выделяя их цветами и наиболее понравившимся тебе способом оформления, но явно  отличающимся от моих комментариев. Это нужно, чтобы не создавалась путаница🙃\n",
    "    \n",
    "`<div class=\"alert alert-info\"> <b>Комментарий студента:</b> Например, вот так.</div>`\n",
    "\n",
    "Чтобы сделать подобный блок, кликни здесь дважды и скопируй всю предыдущую строку ;)\n",
    "    \n",
    "Пожалуйста, не удаляй и не перемещай мои комментарии, они будут особенно полезны для нашей работы в случае повторной проверки проекта.</div></b>"
   ]
  },
  {
   "cell_type": "markdown",
   "id": "30ba8b3e",
   "metadata": {
    "deletable": false,
    "editable": false,
    "id": "c81daeeb"
   },
   "source": [
    "# Исследование надежности заемщиков\n"
   ]
  },
  {
   "cell_type": "markdown",
   "id": "653adab8",
   "metadata": {},
   "source": [
    "**Введение**\n",
    "1. **Краткое описание**: Исследование надежности заемщиков\n",
    "2. **Цель проекта**: Определить как различные метрики влияют на факт погашения кредита.\n",
    "3. **Описание данных**\n",
    "children — количество детей в семье\n",
    "days_employed — общий трудовой стаж в днях\n",
    "dob_years — возраст клиента в годах\n",
    "education — уровень образования клиента\n",
    "education_id — идентификатор уровня образования\n",
    "family_status — семейное положение\n",
    "family_status_id — идентификатор семейного положения\n",
    "gender — пол клиента\n",
    "income_type — тип занятости\n",
    "debt — имел ли задолженность по возврату кредитов\n",
    "total_income — ежемесячный доход\n",
    "purpose — цель получения кредита\n",
    "4.**Краткий план работы**:\n",
    "-Удалить пропуски\n",
    "-Заменить аномальные значения на медианые\n",
    "-Удалить явные и неявные дубликаты\n",
    "-Изменить тип данных дял некоторых столбцов\n",
    "-Создать столбец и написать функцию для категоризации значений дохода\n",
    "-Создать столбец и написать функцию для категоризации причин кредитования\n",
    "-Сгруппировать данные по кол-во детей от кол-во людей просрочивших кредит и общего числа займов\n",
    "-Сгруппировать данные по статусу семейного положения от кол-во людей просрочивших кредит и общего числа займов\n",
    "-Сгруппировать данные по доходу от кол-во людей просрочивших кредит и общего числа займов\n",
    "-Сгруппировать данные по причинам кредитования от кол-во людей просрочивших кредит и общего числа займов\n",
    "-Расчитать долю людей просрочивших кредит от общего числа займов для каждой группировки \n",
    "-Дать соответсвующую оценку полученным результатам\n"
   ]
  },
  {
   "cell_type": "markdown",
   "id": "1a715b26",
   "metadata": {},
   "source": [
    "<div class=\"alert alert-success\">\n",
    "<h2> Комментарий ревьюера 😊 v_2 <a class=\"tocSkip\"> </h2>\n",
    "\n",
    "Отличное введение)"
   ]
  },
  {
   "cell_type": "markdown",
   "id": "a4430814",
   "metadata": {},
   "source": [
    "<div class=\"alert alert-warning\">\n",
    "<h2> Комментарий ревьюера 🤓<a class=\"tocSkip\"> </h2>\n",
    "\n",
    "Введение, как и общий вывод - важные части твоей работы, на которые в первую очередь обращает внимание заказчик. Введение станет лучше, если ты добавишь в него:\n",
    "* заголовок,\n",
    "\n",
    "* краткое описание проекта,\n",
    "\n",
    "* выделим цель проекта\n",
    "\n",
    "* описание данных\n",
    "\n",
    "* краткий план работы, выделим основные этапы, которые должны сделать.\n",
    "\n",
    "Тогда получатель отчета сможет быстрей его понять.\n",
    "\n",
    "</div>"
   ]
  },
  {
   "cell_type": "markdown",
   "id": "3fc71ee3",
   "metadata": {
    "deletable": false,
    "editable": false,
    "id": "827c20bf"
   },
   "source": [
    "Во второй части проекта вы выполните шаги 3 и 4. Их вручную проверит ревьюер.\n",
    "Чтобы вам не пришлось писать код заново для шагов 1 и 2, мы добавили авторские решения в ячейки с кодом. \n",
    "\n"
   ]
  },
  {
   "cell_type": "markdown",
   "id": "529f6c53",
   "metadata": {
    "deletable": false,
    "editable": false,
    "id": "744d7639"
   },
   "source": [
    "## Откройте таблицу и изучите общую информацию о данных"
   ]
  },
  {
   "cell_type": "markdown",
   "id": "c143517a",
   "metadata": {
    "deletable": false,
    "editable": false,
    "id": "e7a14c31"
   },
   "source": [
    "**Задание 1. Импортируйте библиотеку pandas. Считайте данные из csv-файла в датафрейм и сохраните в переменную `data`. Путь к файлу:**\n",
    "\n",
    "`/datasets/data.csv`"
   ]
  },
  {
   "cell_type": "code",
   "execution_count": 1,
   "id": "475612aa",
   "metadata": {
    "deletable": false,
    "id": "7bcf75c9"
   },
   "outputs": [],
   "source": [
    "import pandas as pd\n",
    "\n",
    "try:\n",
    "    data = pd.read_csv('/datasets/data.csv')\n",
    "except:\n",
    "    data = pd.read_csv('https://code.s3.yandex.net/datasets/data.csv')"
   ]
  },
  {
   "cell_type": "markdown",
   "id": "446bb1a7",
   "metadata": {
    "deletable": false,
    "editable": false,
    "id": "b8038fe3"
   },
   "source": [
    "**Задание 2. Выведите первые 20 строчек датафрейма `data` на экран.**"
   ]
  },
  {
   "cell_type": "code",
   "execution_count": 2,
   "id": "1ffe5300",
   "metadata": {
    "deletable": false,
    "id": "2a7cab99",
    "outputId": "1a8f3ef2-d323-4ec2-ddf7-89670b5944c4"
   },
   "outputs": [
    {
     "data": {
      "text/html": [
       "<div>\n",
       "<style scoped>\n",
       "    .dataframe tbody tr th:only-of-type {\n",
       "        vertical-align: middle;\n",
       "    }\n",
       "\n",
       "    .dataframe tbody tr th {\n",
       "        vertical-align: top;\n",
       "    }\n",
       "\n",
       "    .dataframe thead th {\n",
       "        text-align: right;\n",
       "    }\n",
       "</style>\n",
       "<table border=\"1\" class=\"dataframe\">\n",
       "  <thead>\n",
       "    <tr style=\"text-align: right;\">\n",
       "      <th></th>\n",
       "      <th>children</th>\n",
       "      <th>days_employed</th>\n",
       "      <th>dob_years</th>\n",
       "      <th>education</th>\n",
       "      <th>education_id</th>\n",
       "      <th>family_status</th>\n",
       "      <th>family_status_id</th>\n",
       "      <th>gender</th>\n",
       "      <th>income_type</th>\n",
       "      <th>debt</th>\n",
       "      <th>total_income</th>\n",
       "      <th>purpose</th>\n",
       "    </tr>\n",
       "  </thead>\n",
       "  <tbody>\n",
       "    <tr>\n",
       "      <th>0</th>\n",
       "      <td>1</td>\n",
       "      <td>-8437.673028</td>\n",
       "      <td>42</td>\n",
       "      <td>высшее</td>\n",
       "      <td>0</td>\n",
       "      <td>женат / замужем</td>\n",
       "      <td>0</td>\n",
       "      <td>F</td>\n",
       "      <td>сотрудник</td>\n",
       "      <td>0</td>\n",
       "      <td>253875.639453</td>\n",
       "      <td>покупка жилья</td>\n",
       "    </tr>\n",
       "    <tr>\n",
       "      <th>1</th>\n",
       "      <td>1</td>\n",
       "      <td>-4024.803754</td>\n",
       "      <td>36</td>\n",
       "      <td>среднее</td>\n",
       "      <td>1</td>\n",
       "      <td>женат / замужем</td>\n",
       "      <td>0</td>\n",
       "      <td>F</td>\n",
       "      <td>сотрудник</td>\n",
       "      <td>0</td>\n",
       "      <td>112080.014102</td>\n",
       "      <td>приобретение автомобиля</td>\n",
       "    </tr>\n",
       "    <tr>\n",
       "      <th>2</th>\n",
       "      <td>0</td>\n",
       "      <td>-5623.422610</td>\n",
       "      <td>33</td>\n",
       "      <td>Среднее</td>\n",
       "      <td>1</td>\n",
       "      <td>женат / замужем</td>\n",
       "      <td>0</td>\n",
       "      <td>M</td>\n",
       "      <td>сотрудник</td>\n",
       "      <td>0</td>\n",
       "      <td>145885.952297</td>\n",
       "      <td>покупка жилья</td>\n",
       "    </tr>\n",
       "    <tr>\n",
       "      <th>3</th>\n",
       "      <td>3</td>\n",
       "      <td>-4124.747207</td>\n",
       "      <td>32</td>\n",
       "      <td>среднее</td>\n",
       "      <td>1</td>\n",
       "      <td>женат / замужем</td>\n",
       "      <td>0</td>\n",
       "      <td>M</td>\n",
       "      <td>сотрудник</td>\n",
       "      <td>0</td>\n",
       "      <td>267628.550329</td>\n",
       "      <td>дополнительное образование</td>\n",
       "    </tr>\n",
       "    <tr>\n",
       "      <th>4</th>\n",
       "      <td>0</td>\n",
       "      <td>340266.072047</td>\n",
       "      <td>53</td>\n",
       "      <td>среднее</td>\n",
       "      <td>1</td>\n",
       "      <td>гражданский брак</td>\n",
       "      <td>1</td>\n",
       "      <td>F</td>\n",
       "      <td>пенсионер</td>\n",
       "      <td>0</td>\n",
       "      <td>158616.077870</td>\n",
       "      <td>сыграть свадьбу</td>\n",
       "    </tr>\n",
       "    <tr>\n",
       "      <th>5</th>\n",
       "      <td>0</td>\n",
       "      <td>-926.185831</td>\n",
       "      <td>27</td>\n",
       "      <td>высшее</td>\n",
       "      <td>0</td>\n",
       "      <td>гражданский брак</td>\n",
       "      <td>1</td>\n",
       "      <td>M</td>\n",
       "      <td>компаньон</td>\n",
       "      <td>0</td>\n",
       "      <td>255763.565419</td>\n",
       "      <td>покупка жилья</td>\n",
       "    </tr>\n",
       "    <tr>\n",
       "      <th>6</th>\n",
       "      <td>0</td>\n",
       "      <td>-2879.202052</td>\n",
       "      <td>43</td>\n",
       "      <td>высшее</td>\n",
       "      <td>0</td>\n",
       "      <td>женат / замужем</td>\n",
       "      <td>0</td>\n",
       "      <td>F</td>\n",
       "      <td>компаньон</td>\n",
       "      <td>0</td>\n",
       "      <td>240525.971920</td>\n",
       "      <td>операции с жильем</td>\n",
       "    </tr>\n",
       "    <tr>\n",
       "      <th>7</th>\n",
       "      <td>0</td>\n",
       "      <td>-152.779569</td>\n",
       "      <td>50</td>\n",
       "      <td>СРЕДНЕЕ</td>\n",
       "      <td>1</td>\n",
       "      <td>женат / замужем</td>\n",
       "      <td>0</td>\n",
       "      <td>M</td>\n",
       "      <td>сотрудник</td>\n",
       "      <td>0</td>\n",
       "      <td>135823.934197</td>\n",
       "      <td>образование</td>\n",
       "    </tr>\n",
       "    <tr>\n",
       "      <th>8</th>\n",
       "      <td>2</td>\n",
       "      <td>-6929.865299</td>\n",
       "      <td>35</td>\n",
       "      <td>ВЫСШЕЕ</td>\n",
       "      <td>0</td>\n",
       "      <td>гражданский брак</td>\n",
       "      <td>1</td>\n",
       "      <td>F</td>\n",
       "      <td>сотрудник</td>\n",
       "      <td>0</td>\n",
       "      <td>95856.832424</td>\n",
       "      <td>на проведение свадьбы</td>\n",
       "    </tr>\n",
       "    <tr>\n",
       "      <th>9</th>\n",
       "      <td>0</td>\n",
       "      <td>-2188.756445</td>\n",
       "      <td>41</td>\n",
       "      <td>среднее</td>\n",
       "      <td>1</td>\n",
       "      <td>женат / замужем</td>\n",
       "      <td>0</td>\n",
       "      <td>M</td>\n",
       "      <td>сотрудник</td>\n",
       "      <td>0</td>\n",
       "      <td>144425.938277</td>\n",
       "      <td>покупка жилья для семьи</td>\n",
       "    </tr>\n",
       "    <tr>\n",
       "      <th>10</th>\n",
       "      <td>2</td>\n",
       "      <td>-4171.483647</td>\n",
       "      <td>36</td>\n",
       "      <td>высшее</td>\n",
       "      <td>0</td>\n",
       "      <td>женат / замужем</td>\n",
       "      <td>0</td>\n",
       "      <td>M</td>\n",
       "      <td>компаньон</td>\n",
       "      <td>0</td>\n",
       "      <td>113943.491460</td>\n",
       "      <td>покупка недвижимости</td>\n",
       "    </tr>\n",
       "    <tr>\n",
       "      <th>11</th>\n",
       "      <td>0</td>\n",
       "      <td>-792.701887</td>\n",
       "      <td>40</td>\n",
       "      <td>среднее</td>\n",
       "      <td>1</td>\n",
       "      <td>женат / замужем</td>\n",
       "      <td>0</td>\n",
       "      <td>F</td>\n",
       "      <td>сотрудник</td>\n",
       "      <td>0</td>\n",
       "      <td>77069.234271</td>\n",
       "      <td>покупка коммерческой недвижимости</td>\n",
       "    </tr>\n",
       "    <tr>\n",
       "      <th>12</th>\n",
       "      <td>0</td>\n",
       "      <td>NaN</td>\n",
       "      <td>65</td>\n",
       "      <td>среднее</td>\n",
       "      <td>1</td>\n",
       "      <td>гражданский брак</td>\n",
       "      <td>1</td>\n",
       "      <td>M</td>\n",
       "      <td>пенсионер</td>\n",
       "      <td>0</td>\n",
       "      <td>NaN</td>\n",
       "      <td>сыграть свадьбу</td>\n",
       "    </tr>\n",
       "    <tr>\n",
       "      <th>13</th>\n",
       "      <td>0</td>\n",
       "      <td>-1846.641941</td>\n",
       "      <td>54</td>\n",
       "      <td>неоконченное высшее</td>\n",
       "      <td>2</td>\n",
       "      <td>женат / замужем</td>\n",
       "      <td>0</td>\n",
       "      <td>F</td>\n",
       "      <td>сотрудник</td>\n",
       "      <td>0</td>\n",
       "      <td>130458.228857</td>\n",
       "      <td>приобретение автомобиля</td>\n",
       "    </tr>\n",
       "    <tr>\n",
       "      <th>14</th>\n",
       "      <td>0</td>\n",
       "      <td>-1844.956182</td>\n",
       "      <td>56</td>\n",
       "      <td>высшее</td>\n",
       "      <td>0</td>\n",
       "      <td>гражданский брак</td>\n",
       "      <td>1</td>\n",
       "      <td>F</td>\n",
       "      <td>компаньон</td>\n",
       "      <td>1</td>\n",
       "      <td>165127.911772</td>\n",
       "      <td>покупка жилой недвижимости</td>\n",
       "    </tr>\n",
       "    <tr>\n",
       "      <th>15</th>\n",
       "      <td>1</td>\n",
       "      <td>-972.364419</td>\n",
       "      <td>26</td>\n",
       "      <td>среднее</td>\n",
       "      <td>1</td>\n",
       "      <td>женат / замужем</td>\n",
       "      <td>0</td>\n",
       "      <td>F</td>\n",
       "      <td>сотрудник</td>\n",
       "      <td>0</td>\n",
       "      <td>116820.904450</td>\n",
       "      <td>строительство собственной недвижимости</td>\n",
       "    </tr>\n",
       "    <tr>\n",
       "      <th>16</th>\n",
       "      <td>0</td>\n",
       "      <td>-1719.934226</td>\n",
       "      <td>35</td>\n",
       "      <td>среднее</td>\n",
       "      <td>1</td>\n",
       "      <td>женат / замужем</td>\n",
       "      <td>0</td>\n",
       "      <td>F</td>\n",
       "      <td>сотрудник</td>\n",
       "      <td>0</td>\n",
       "      <td>289202.704229</td>\n",
       "      <td>недвижимость</td>\n",
       "    </tr>\n",
       "    <tr>\n",
       "      <th>17</th>\n",
       "      <td>0</td>\n",
       "      <td>-2369.999720</td>\n",
       "      <td>33</td>\n",
       "      <td>высшее</td>\n",
       "      <td>0</td>\n",
       "      <td>гражданский брак</td>\n",
       "      <td>1</td>\n",
       "      <td>M</td>\n",
       "      <td>сотрудник</td>\n",
       "      <td>0</td>\n",
       "      <td>90410.586745</td>\n",
       "      <td>строительство недвижимости</td>\n",
       "    </tr>\n",
       "    <tr>\n",
       "      <th>18</th>\n",
       "      <td>0</td>\n",
       "      <td>400281.136913</td>\n",
       "      <td>53</td>\n",
       "      <td>среднее</td>\n",
       "      <td>1</td>\n",
       "      <td>вдовец / вдова</td>\n",
       "      <td>2</td>\n",
       "      <td>F</td>\n",
       "      <td>пенсионер</td>\n",
       "      <td>0</td>\n",
       "      <td>56823.777243</td>\n",
       "      <td>на покупку подержанного автомобиля</td>\n",
       "    </tr>\n",
       "    <tr>\n",
       "      <th>19</th>\n",
       "      <td>0</td>\n",
       "      <td>-10038.818549</td>\n",
       "      <td>48</td>\n",
       "      <td>СРЕДНЕЕ</td>\n",
       "      <td>1</td>\n",
       "      <td>в разводе</td>\n",
       "      <td>3</td>\n",
       "      <td>F</td>\n",
       "      <td>сотрудник</td>\n",
       "      <td>0</td>\n",
       "      <td>242831.107982</td>\n",
       "      <td>на покупку своего автомобиля</td>\n",
       "    </tr>\n",
       "  </tbody>\n",
       "</table>\n",
       "</div>"
      ],
      "text/plain": [
       "    children  days_employed  dob_years            education  education_id  \\\n",
       "0          1   -8437.673028         42               высшее             0   \n",
       "1          1   -4024.803754         36              среднее             1   \n",
       "2          0   -5623.422610         33              Среднее             1   \n",
       "3          3   -4124.747207         32              среднее             1   \n",
       "4          0  340266.072047         53              среднее             1   \n",
       "5          0    -926.185831         27               высшее             0   \n",
       "6          0   -2879.202052         43               высшее             0   \n",
       "7          0    -152.779569         50              СРЕДНЕЕ             1   \n",
       "8          2   -6929.865299         35               ВЫСШЕЕ             0   \n",
       "9          0   -2188.756445         41              среднее             1   \n",
       "10         2   -4171.483647         36               высшее             0   \n",
       "11         0    -792.701887         40              среднее             1   \n",
       "12         0            NaN         65              среднее             1   \n",
       "13         0   -1846.641941         54  неоконченное высшее             2   \n",
       "14         0   -1844.956182         56               высшее             0   \n",
       "15         1    -972.364419         26              среднее             1   \n",
       "16         0   -1719.934226         35              среднее             1   \n",
       "17         0   -2369.999720         33               высшее             0   \n",
       "18         0  400281.136913         53              среднее             1   \n",
       "19         0  -10038.818549         48              СРЕДНЕЕ             1   \n",
       "\n",
       "       family_status  family_status_id gender income_type  debt  \\\n",
       "0    женат / замужем                 0      F   сотрудник     0   \n",
       "1    женат / замужем                 0      F   сотрудник     0   \n",
       "2    женат / замужем                 0      M   сотрудник     0   \n",
       "3    женат / замужем                 0      M   сотрудник     0   \n",
       "4   гражданский брак                 1      F   пенсионер     0   \n",
       "5   гражданский брак                 1      M   компаньон     0   \n",
       "6    женат / замужем                 0      F   компаньон     0   \n",
       "7    женат / замужем                 0      M   сотрудник     0   \n",
       "8   гражданский брак                 1      F   сотрудник     0   \n",
       "9    женат / замужем                 0      M   сотрудник     0   \n",
       "10   женат / замужем                 0      M   компаньон     0   \n",
       "11   женат / замужем                 0      F   сотрудник     0   \n",
       "12  гражданский брак                 1      M   пенсионер     0   \n",
       "13   женат / замужем                 0      F   сотрудник     0   \n",
       "14  гражданский брак                 1      F   компаньон     1   \n",
       "15   женат / замужем                 0      F   сотрудник     0   \n",
       "16   женат / замужем                 0      F   сотрудник     0   \n",
       "17  гражданский брак                 1      M   сотрудник     0   \n",
       "18    вдовец / вдова                 2      F   пенсионер     0   \n",
       "19         в разводе                 3      F   сотрудник     0   \n",
       "\n",
       "     total_income                                 purpose  \n",
       "0   253875.639453                           покупка жилья  \n",
       "1   112080.014102                 приобретение автомобиля  \n",
       "2   145885.952297                           покупка жилья  \n",
       "3   267628.550329              дополнительное образование  \n",
       "4   158616.077870                         сыграть свадьбу  \n",
       "5   255763.565419                           покупка жилья  \n",
       "6   240525.971920                       операции с жильем  \n",
       "7   135823.934197                             образование  \n",
       "8    95856.832424                   на проведение свадьбы  \n",
       "9   144425.938277                 покупка жилья для семьи  \n",
       "10  113943.491460                    покупка недвижимости  \n",
       "11   77069.234271       покупка коммерческой недвижимости  \n",
       "12            NaN                         сыграть свадьбу  \n",
       "13  130458.228857                 приобретение автомобиля  \n",
       "14  165127.911772              покупка жилой недвижимости  \n",
       "15  116820.904450  строительство собственной недвижимости  \n",
       "16  289202.704229                            недвижимость  \n",
       "17   90410.586745              строительство недвижимости  \n",
       "18   56823.777243      на покупку подержанного автомобиля  \n",
       "19  242831.107982            на покупку своего автомобиля  "
      ]
     },
     "execution_count": 2,
     "metadata": {},
     "output_type": "execute_result"
    }
   ],
   "source": [
    "data.head(20)"
   ]
  },
  {
   "cell_type": "markdown",
   "id": "14ca3106",
   "metadata": {
    "deletable": false,
    "editable": false,
    "id": "1c12e233"
   },
   "source": [
    "**Задание 3. Выведите основную информацию о датафрейме с помощью метода `info()`.**"
   ]
  },
  {
   "cell_type": "code",
   "execution_count": 3,
   "id": "12291d5d",
   "metadata": {
    "deletable": false,
    "id": "2b757bca",
    "outputId": "15376089-8dad-46c9-b520-c05248d43158"
   },
   "outputs": [
    {
     "name": "stdout",
     "output_type": "stream",
     "text": [
      "<class 'pandas.core.frame.DataFrame'>\n",
      "RangeIndex: 21525 entries, 0 to 21524\n",
      "Data columns (total 12 columns):\n",
      " #   Column            Non-Null Count  Dtype  \n",
      "---  ------            --------------  -----  \n",
      " 0   children          21525 non-null  int64  \n",
      " 1   days_employed     19351 non-null  float64\n",
      " 2   dob_years         21525 non-null  int64  \n",
      " 3   education         21525 non-null  object \n",
      " 4   education_id      21525 non-null  int64  \n",
      " 5   family_status     21525 non-null  object \n",
      " 6   family_status_id  21525 non-null  int64  \n",
      " 7   gender            21525 non-null  object \n",
      " 8   income_type       21525 non-null  object \n",
      " 9   debt              21525 non-null  int64  \n",
      " 10  total_income      19351 non-null  float64\n",
      " 11  purpose           21525 non-null  object \n",
      "dtypes: float64(2), int64(5), object(5)\n",
      "memory usage: 2.0+ MB\n"
     ]
    }
   ],
   "source": [
    "data.info()"
   ]
  },
  {
   "cell_type": "markdown",
   "id": "21a26474",
   "metadata": {
    "deletable": false,
    "editable": false,
    "id": "333ec665"
   },
   "source": [
    "## Предобработка данных"
   ]
  },
  {
   "cell_type": "markdown",
   "id": "c4b8087f",
   "metadata": {
    "deletable": false,
    "editable": false,
    "id": "02d92d53"
   },
   "source": [
    "### Удаление пропусков"
   ]
  },
  {
   "cell_type": "markdown",
   "id": "5e325b78",
   "metadata": {
    "deletable": false,
    "editable": false,
    "id": "cd84967c"
   },
   "source": [
    "**Задание 4. Выведите количество пропущенных значений для каждого столбца. Используйте комбинацию двух методов.**"
   ]
  },
  {
   "cell_type": "code",
   "execution_count": 4,
   "id": "addd7e0c",
   "metadata": {
    "deletable": false,
    "id": "7f9b2309",
    "outputId": "81f4d817-781c-465c-ed15-91ce4446810d"
   },
   "outputs": [
    {
     "data": {
      "text/plain": [
       "children               0\n",
       "days_employed       2174\n",
       "dob_years              0\n",
       "education              0\n",
       "education_id           0\n",
       "family_status          0\n",
       "family_status_id       0\n",
       "gender                 0\n",
       "income_type            0\n",
       "debt                   0\n",
       "total_income        2174\n",
       "purpose                0\n",
       "dtype: int64"
      ]
     },
     "execution_count": 4,
     "metadata": {},
     "output_type": "execute_result"
    }
   ],
   "source": [
    "data.isna().sum()"
   ]
  },
  {
   "cell_type": "markdown",
   "id": "e68d8d5e",
   "metadata": {
    "deletable": false,
    "editable": false,
    "id": "db86e27b"
   },
   "source": [
    "**Задание 5. В двух столбцах есть пропущенные значения. Один из них — `days_employed`. Пропуски в этом столбце вы обработаете на следующем этапе. Другой столбец с пропущенными значениями — `total_income` — хранит данные о доходах. На сумму дохода сильнее всего влияет тип занятости, поэтому заполнить пропуски в этом столбце нужно медианным значением по каждому типу из столбца `income_type`. Например, у человека с типом занятости `сотрудник` пропуск в столбце `total_income` должен быть заполнен медианным доходом среди всех записей с тем же типом.**"
   ]
  },
  {
   "cell_type": "code",
   "execution_count": 5,
   "id": "b5d683db",
   "metadata": {
    "deletable": false,
    "id": "42006a93"
   },
   "outputs": [],
   "source": [
    "for t in data['income_type'].unique():\n",
    "    data.loc[(data['income_type'] == t) & (data['total_income'].isna()), 'total_income'] = \\\n",
    "    data.loc[(data['income_type'] == t), 'total_income'].median()"
   ]
  },
  {
   "cell_type": "markdown",
   "id": "d23cb24c",
   "metadata": {
    "deletable": false,
    "editable": false,
    "id": "89da5ece"
   },
   "source": [
    "### Обработка аномальных значений"
   ]
  },
  {
   "cell_type": "markdown",
   "id": "8615ae51",
   "metadata": {
    "deletable": false,
    "editable": false,
    "id": "57964554"
   },
   "source": [
    "**Задание 6. В данных могут встречаться артефакты (аномалии) — значения, которые не отражают действительность и появились по какой-то ошибке. таким артефактом будет отрицательное количество дней трудового стажа в столбце `days_employed`. Для реальных данных это нормально. Обработайте значения в этом столбце: замените все отрицательные значения положительными с помощью метода `abs()`.**"
   ]
  },
  {
   "cell_type": "code",
   "execution_count": 6,
   "id": "0fdea573",
   "metadata": {
    "deletable": false,
    "id": "f6f055bf"
   },
   "outputs": [],
   "source": [
    "data['days_employed'] = data['days_employed'].abs()"
   ]
  },
  {
   "cell_type": "markdown",
   "id": "f08a8bc6",
   "metadata": {
    "deletable": false,
    "editable": false,
    "id": "6107dd2f"
   },
   "source": [
    "**Задание 7. Для каждого типа занятости выведите медианное значение трудового стажа `days_employed` в днях.**"
   ]
  },
  {
   "cell_type": "code",
   "execution_count": 7,
   "id": "6028bfe6",
   "metadata": {
    "deletable": false,
    "id": "85a5faf6",
    "outputId": "801ef80e-522b-4668-f34e-565af7432bcf"
   },
   "outputs": [
    {
     "data": {
      "text/plain": [
       "income_type\n",
       "безработный        366413.652744\n",
       "в декрете            3296.759962\n",
       "госслужащий          2689.368353\n",
       "компаньон            1547.382223\n",
       "пенсионер          365213.306266\n",
       "предприниматель       520.848083\n",
       "сотрудник            1574.202821\n",
       "студент               578.751554\n",
       "Name: days_employed, dtype: float64"
      ]
     },
     "execution_count": 7,
     "metadata": {},
     "output_type": "execute_result"
    }
   ],
   "source": [
    "data.groupby('income_type')['days_employed'].agg('median')"
   ]
  },
  {
   "cell_type": "markdown",
   "id": "e0d71bad",
   "metadata": {
    "deletable": false,
    "editable": false,
    "id": "38d1a030"
   },
   "source": [
    "У двух типов (безработные и пенсионеры) получатся аномально большие значения. Исправить такие значения сложно, поэтому оставьте их как есть. Тем более этот столбец не понадобится вам для исследования."
   ]
  },
  {
   "cell_type": "markdown",
   "id": "4ea78d12",
   "metadata": {
    "deletable": false,
    "editable": false,
    "id": "d8a9f147"
   },
   "source": [
    "**Задание 8. Выведите перечень уникальных значений столбца `children`.**"
   ]
  },
  {
   "cell_type": "code",
   "execution_count": 8,
   "id": "ab73b04a",
   "metadata": {
    "deletable": false,
    "id": "ef5056eb",
    "outputId": "6975b15c-7f95-4697-d16d-a0c79b657b03"
   },
   "outputs": [
    {
     "data": {
      "text/plain": [
       "array([ 1,  0,  3,  2, -1,  4, 20,  5])"
      ]
     },
     "execution_count": 8,
     "metadata": {},
     "output_type": "execute_result"
    }
   ],
   "source": [
    "data['children'].unique()"
   ]
  },
  {
   "cell_type": "markdown",
   "id": "d4bdde2c",
   "metadata": {
    "deletable": false,
    "editable": false,
    "id": "40b9ebf2"
   },
   "source": [
    "**Задание 9. В столбце `children` есть два аномальных значения. Удалите строки, в которых встречаются такие аномальные значения из датафрейма `data`.**"
   ]
  },
  {
   "cell_type": "code",
   "execution_count": 9,
   "id": "d68eea84",
   "metadata": {
    "deletable": false,
    "id": "3ff9801d"
   },
   "outputs": [],
   "source": [
    "data = data[(data['children'] != -1) & (data['children'] != 20)]"
   ]
  },
  {
   "cell_type": "markdown",
   "id": "5e3721bd",
   "metadata": {
    "deletable": false,
    "editable": false,
    "id": "bbc4d0ce"
   },
   "source": [
    "**Задание 10. Ещё раз выведите перечень уникальных значений столбца `children`, чтобы убедиться, что артефакты удалены.**"
   ]
  },
  {
   "cell_type": "code",
   "execution_count": 10,
   "id": "1b02147c",
   "metadata": {
    "deletable": false,
    "id": "ad4fa8b7",
    "outputId": "b2097101-d49d-44d9-901b-32a65c9463d1"
   },
   "outputs": [
    {
     "data": {
      "text/plain": [
       "array([1, 0, 3, 2, 4, 5])"
      ]
     },
     "execution_count": 10,
     "metadata": {},
     "output_type": "execute_result"
    }
   ],
   "source": [
    "data['children'].unique()"
   ]
  },
  {
   "cell_type": "markdown",
   "id": "95b6c917",
   "metadata": {
    "deletable": false,
    "editable": false,
    "id": "75440b63"
   },
   "source": [
    "### Удаление пропусков (продолжение)"
   ]
  },
  {
   "cell_type": "markdown",
   "id": "f09a34e7",
   "metadata": {
    "deletable": false,
    "editable": false,
    "id": "f4ea573f"
   },
   "source": [
    "**Задание 11. Заполните пропуски в столбце `days_employed` медианными значениями по каждого типа занятости `income_type`.**"
   ]
  },
  {
   "cell_type": "code",
   "execution_count": 11,
   "id": "9c116642",
   "metadata": {
    "deletable": false,
    "id": "af6b1a7e"
   },
   "outputs": [],
   "source": [
    "for t in data['income_type'].unique():\n",
    "    data.loc[(data['income_type'] == t) & (data['days_employed'].isna()), 'days_employed'] = \\\n",
    "    data.loc[(data['income_type'] == t), 'days_employed'].median()"
   ]
  },
  {
   "cell_type": "markdown",
   "id": "dd0e3397",
   "metadata": {
    "deletable": false,
    "editable": false,
    "id": "2753f40d"
   },
   "source": [
    "**Задание 12. Убедитесь, что все пропуски заполнены. Проверьте себя и ещё раз выведите количество пропущенных значений для каждого столбца с помощью двух методов.**"
   ]
  },
  {
   "cell_type": "code",
   "execution_count": 12,
   "id": "fe365fd2",
   "metadata": {
    "deletable": false,
    "id": "55f78bc2",
    "outputId": "8da1e4e1-358e-4e87-98c9-f261bce0a7b2"
   },
   "outputs": [
    {
     "data": {
      "text/plain": [
       "children            0\n",
       "days_employed       0\n",
       "dob_years           0\n",
       "education           0\n",
       "education_id        0\n",
       "family_status       0\n",
       "family_status_id    0\n",
       "gender              0\n",
       "income_type         0\n",
       "debt                0\n",
       "total_income        0\n",
       "purpose             0\n",
       "dtype: int64"
      ]
     },
     "execution_count": 12,
     "metadata": {},
     "output_type": "execute_result"
    }
   ],
   "source": [
    "data.isna().sum()"
   ]
  },
  {
   "cell_type": "markdown",
   "id": "afd953be",
   "metadata": {
    "deletable": false,
    "editable": false,
    "id": "ddc81e43"
   },
   "source": [
    "### Изменение типов данных"
   ]
  },
  {
   "cell_type": "markdown",
   "id": "3c5281ee",
   "metadata": {
    "deletable": false,
    "editable": false,
    "id": "42d19d24"
   },
   "source": [
    "**Задание 13. Замените вещественный тип данных в столбце `total_income` на целочисленный с помощью метода `astype()`.**"
   ]
  },
  {
   "cell_type": "code",
   "execution_count": 13,
   "id": "b0b83804",
   "metadata": {
    "deletable": false,
    "id": "920b65ad"
   },
   "outputs": [],
   "source": [
    "data['total_income'] = data['total_income'].astype(int)"
   ]
  },
  {
   "cell_type": "markdown",
   "id": "4e8cac8d",
   "metadata": {
    "deletable": false,
    "editable": false,
    "id": "80c420ba"
   },
   "source": [
    "### Обработка дубликатов"
   ]
  },
  {
   "cell_type": "markdown",
   "id": "5d9be7be",
   "metadata": {
    "deletable": false,
    "editable": false
   },
   "source": [
    "**Задание 14. Обработайте неявные дубликаты в столбце `education`. В этом столбце есть одни и те же значения, но записанные по-разному: с использованием заглавных и строчных букв. Приведите их к нижнему регистру. Проверьте остальные столбцы.**"
   ]
  },
  {
   "cell_type": "code",
   "execution_count": 14,
   "id": "c58da686",
   "metadata": {
    "deletable": false
   },
   "outputs": [],
   "source": [
    "data['education'] = data['education'].str.lower()"
   ]
  },
  {
   "cell_type": "markdown",
   "id": "7753073b",
   "metadata": {
    "deletable": false,
    "editable": false,
    "id": "dc587695"
   },
   "source": [
    "**Задание 15. Выведите на экран количество строк-дубликатов в данных. Если такие строки присутствуют, удалите их.**"
   ]
  },
  {
   "cell_type": "code",
   "execution_count": 15,
   "id": "636f0114",
   "metadata": {
    "deletable": false,
    "id": "3ee445e4",
    "outputId": "9684deba-1934-42d1-99e1-cda61740f822"
   },
   "outputs": [
    {
     "data": {
      "text/plain": [
       "71"
      ]
     },
     "execution_count": 15,
     "metadata": {},
     "output_type": "execute_result"
    }
   ],
   "source": [
    "data.duplicated().sum()"
   ]
  },
  {
   "cell_type": "code",
   "execution_count": 16,
   "id": "2bb6e07f",
   "metadata": {
    "deletable": false,
    "id": "8575fe05"
   },
   "outputs": [],
   "source": [
    "data = data.drop_duplicates()"
   ]
  },
  {
   "cell_type": "markdown",
   "id": "e19c4a21",
   "metadata": {
    "deletable": false,
    "editable": false,
    "id": "9904cf55"
   },
   "source": [
    "### Категоризация данных"
   ]
  },
  {
   "cell_type": "markdown",
   "id": "f77b6e3d",
   "metadata": {
    "deletable": false,
    "editable": false,
    "id": "72fcc8a2"
   },
   "source": [
    "**Задание 16. На основании диапазонов, указанных ниже, создайте в датафрейме `data` столбец `total_income_category` с категориями:**\n",
    "\n",
    "- 0–30000 — `'E'`;\n",
    "- 30001–50000 — `'D'`;\n",
    "- 50001–200000 — `'C'`;\n",
    "- 200001–1000000 — `'B'`;\n",
    "- 1000001 и выше — `'A'`.\n",
    "\n",
    "\n",
    "**Например, кредитополучателю с доходом 25000 нужно назначить категорию `'E'`, а клиенту, получающему 235000, — `'B'`. Используйте собственную функцию с именем `categorize_income()` и метод `apply()`.**"
   ]
  },
  {
   "cell_type": "code",
   "execution_count": 17,
   "id": "d71c41c8",
   "metadata": {
    "deletable": false,
    "id": "e1771346"
   },
   "outputs": [],
   "source": [
    "def categorize_income(income):\n",
    "    try:\n",
    "        if 0 <= income <= 30000:\n",
    "            return 'E'\n",
    "        elif 30001 <= income <= 50000:\n",
    "            return 'D'\n",
    "        elif 50001 <= income <= 200000:\n",
    "            return 'C'\n",
    "        elif 200001 <= income <= 1000000:\n",
    "            return 'B'\n",
    "        elif income >= 1000001:\n",
    "            return 'A'\n",
    "    except:\n",
    "        pass"
   ]
  },
  {
   "cell_type": "code",
   "execution_count": 18,
   "id": "159aa871",
   "metadata": {
    "deletable": false,
    "id": "d5f3586d"
   },
   "outputs": [],
   "source": [
    "data['total_income_category'] = data['total_income'].apply(categorize_income)"
   ]
  },
  {
   "cell_type": "markdown",
   "id": "fdd55150",
   "metadata": {
    "deletable": false,
    "editable": false,
    "id": "dde49b5c"
   },
   "source": [
    "**Задание 17. Выведите на экран перечень уникальных целей взятия кредита из столбца `purpose`.**"
   ]
  },
  {
   "cell_type": "code",
   "execution_count": 19,
   "id": "737fb1ce",
   "metadata": {
    "deletable": false,
    "id": "f67ce9b3",
    "outputId": "673c12d9-7d7e-4ae0-9812-c622c89dd244"
   },
   "outputs": [
    {
     "data": {
      "text/plain": [
       "array(['покупка жилья', 'приобретение автомобиля',\n",
       "       'дополнительное образование', 'сыграть свадьбу',\n",
       "       'операции с жильем', 'образование', 'на проведение свадьбы',\n",
       "       'покупка жилья для семьи', 'покупка недвижимости',\n",
       "       'покупка коммерческой недвижимости', 'покупка жилой недвижимости',\n",
       "       'строительство собственной недвижимости', 'недвижимость',\n",
       "       'строительство недвижимости', 'на покупку подержанного автомобиля',\n",
       "       'на покупку своего автомобиля',\n",
       "       'операции с коммерческой недвижимостью',\n",
       "       'строительство жилой недвижимости', 'жилье',\n",
       "       'операции со своей недвижимостью', 'автомобили',\n",
       "       'заняться образованием', 'сделка с подержанным автомобилем',\n",
       "       'получение образования', 'автомобиль', 'свадьба',\n",
       "       'получение дополнительного образования', 'покупка своего жилья',\n",
       "       'операции с недвижимостью', 'получение высшего образования',\n",
       "       'свой автомобиль', 'сделка с автомобилем',\n",
       "       'профильное образование', 'высшее образование',\n",
       "       'покупка жилья для сдачи', 'на покупку автомобиля', 'ремонт жилью',\n",
       "       'заняться высшим образованием'], dtype=object)"
      ]
     },
     "execution_count": 19,
     "metadata": {},
     "output_type": "execute_result"
    }
   ],
   "source": [
    "data['purpose'].unique()"
   ]
  },
  {
   "cell_type": "markdown",
   "id": "5dce6289",
   "metadata": {
    "deletable": false,
    "editable": false,
    "id": "85d0aef0"
   },
   "source": [
    "**Задание 18. Создайте функцию, которая на основании данных из столбца `purpose` сформирует новый столбец `purpose_category`, в который войдут следующие категории:**\n",
    "\n",
    "- `'операции с автомобилем'`,\n",
    "- `'операции с недвижимостью'`,\n",
    "- `'проведение свадьбы'`,\n",
    "- `'получение образования'`.\n",
    "\n",
    "**Например, если в столбце `purpose` находится подстрока `'на покупку автомобиля'`, то в столбце `purpose_category` должна появиться строка `'операции с автомобилем'`.**\n",
    "\n",
    "**Используйте собственную функцию с именем `categorize_purpose()` и метод `apply()`. Изучите данные в столбце `purpose` и определите, какие подстроки помогут вам правильно определить категорию.**"
   ]
  },
  {
   "cell_type": "code",
   "execution_count": 20,
   "id": "e551a50a",
   "metadata": {
    "deletable": false,
    "id": "e149fab4"
   },
   "outputs": [],
   "source": [
    "def categorize_purpose(row):\n",
    "    try:\n",
    "        if 'автом' in row:\n",
    "            return 'операции с автомобилем'\n",
    "        elif 'жил' in row or 'недвиж' in row:\n",
    "            return 'операции с недвижимостью'\n",
    "        elif 'свад' in row:\n",
    "            return 'проведение свадьбы'\n",
    "        elif 'образов' in row:\n",
    "            return 'получение образования'\n",
    "    except:\n",
    "        return 'нет категории'"
   ]
  },
  {
   "cell_type": "code",
   "execution_count": 21,
   "id": "0963db7e",
   "metadata": {
    "deletable": false,
    "id": "bf36e69b"
   },
   "outputs": [],
   "source": [
    "data['purpose_category'] = data['purpose'].apply(categorize_purpose)"
   ]
  },
  {
   "cell_type": "markdown",
   "id": "01b5290d",
   "metadata": {
    "deletable": false,
    "editable": false,
    "id": "09b242bf"
   },
   "source": [
    "### Шаг 3. Исследуйте данные и ответьте на вопросы"
   ]
  },
  {
   "cell_type": "markdown",
   "id": "1c049cbd",
   "metadata": {
    "deletable": false,
    "editable": false,
    "id": "c5d66278"
   },
   "source": [
    "#### 3.1 Есть ли зависимость между количеством детей и возвратом кредита в срок?"
   ]
  },
  {
   "cell_type": "code",
   "execution_count": 22,
   "id": "d2b7d9a3",
   "metadata": {
    "deletable": false,
    "id": "2cacfc4a"
   },
   "outputs": [
    {
     "data": {
      "text/html": [
       "<div>\n",
       "<style scoped>\n",
       "    .dataframe tbody tr th:only-of-type {\n",
       "        vertical-align: middle;\n",
       "    }\n",
       "\n",
       "    .dataframe tbody tr th {\n",
       "        vertical-align: top;\n",
       "    }\n",
       "\n",
       "    .dataframe thead tr th {\n",
       "        text-align: left;\n",
       "    }\n",
       "\n",
       "    .dataframe thead tr:last-of-type th {\n",
       "        text-align: right;\n",
       "    }\n",
       "</style>\n",
       "<table border=\"1\" class=\"dataframe\">\n",
       "  <thead>\n",
       "    <tr>\n",
       "      <th></th>\n",
       "      <th colspan=\"2\" halign=\"left\">debt</th>\n",
       "      <th>percent_of_deptors</th>\n",
       "    </tr>\n",
       "    <tr>\n",
       "      <th></th>\n",
       "      <th>count</th>\n",
       "      <th>sum</th>\n",
       "      <th></th>\n",
       "    </tr>\n",
       "    <tr>\n",
       "      <th>children</th>\n",
       "      <th></th>\n",
       "      <th></th>\n",
       "      <th></th>\n",
       "    </tr>\n",
       "  </thead>\n",
       "  <tbody>\n",
       "    <tr>\n",
       "      <th>4</th>\n",
       "      <td>41</td>\n",
       "      <td>4</td>\n",
       "      <td>9.756098</td>\n",
       "    </tr>\n",
       "    <tr>\n",
       "      <th>2</th>\n",
       "      <td>2052</td>\n",
       "      <td>194</td>\n",
       "      <td>9.454191</td>\n",
       "    </tr>\n",
       "    <tr>\n",
       "      <th>1</th>\n",
       "      <td>4808</td>\n",
       "      <td>444</td>\n",
       "      <td>9.234609</td>\n",
       "    </tr>\n",
       "    <tr>\n",
       "      <th>3</th>\n",
       "      <td>330</td>\n",
       "      <td>27</td>\n",
       "      <td>8.181818</td>\n",
       "    </tr>\n",
       "    <tr>\n",
       "      <th>0</th>\n",
       "      <td>14091</td>\n",
       "      <td>1063</td>\n",
       "      <td>7.543822</td>\n",
       "    </tr>\n",
       "    <tr>\n",
       "      <th>5</th>\n",
       "      <td>9</td>\n",
       "      <td>0</td>\n",
       "      <td>0.000000</td>\n",
       "    </tr>\n",
       "  </tbody>\n",
       "</table>\n",
       "</div>"
      ],
      "text/plain": [
       "           debt       percent_of_deptors \n",
       "          count   sum                    \n",
       "children                                 \n",
       "4            41     4            9.756098\n",
       "2          2052   194            9.454191\n",
       "1          4808   444            9.234609\n",
       "3           330    27            8.181818\n",
       "0         14091  1063            7.543822\n",
       "5             9     0            0.000000"
      ]
     },
     "metadata": {},
     "output_type": "display_data"
    }
   ],
   "source": [
    "data_grouped_children=data.groupby('children').agg({'debt':['count','sum']})\n",
    "data_grouped_children['percent_of_deptors ']=data_grouped_children['debt']['sum']/data_grouped_children['debt']['count']*100\n",
    "display(data_grouped_children.sort_values(by='percent_of_deptors ',ascending=False))\n",
    "    \n",
    "    \n",
    "       \n",
    "\n",
    "\n",
    "\n",
    "    \n",
    "    #ваш код будет здесь. Вы можете создавать новые ячейки."
   ]
  },
  {
   "cell_type": "markdown",
   "id": "d7aa14fb",
   "metadata": {},
   "source": [
    "<div class=\"alert alert-warning\">\n",
    "<h2> Комментарий ревьюера 🤓 <a class=\"tocSkip\"> </h2>\n",
    "\n",
    "Столбец 'percent_of_deptors' можно еще рассчитать как среднее, это и будет наша доля должников по каждой категории.\n",
    "    \n",
    " Для отображения таблиц лучше использовать display(), вместо print()."
   ]
  },
  {
   "cell_type": "markdown",
   "id": "4e3bfeb5",
   "metadata": {
    "deletable": false,
    "id": "3a6b99ec"
   },
   "source": [
    "**Вывод:** Таким образом если рассматривать по большому количеству выданных кредитов ( семьи без детей и семьи с 1-2 детьми), то очевидно чем больше детей, тем менее надежнее заемщик. В следствии того, что семьи с 3-4-5 детьми отличаются между собой и всеми остальными на целый порядок по кол-во выданных кредитов, то однозначно нельзя сделать какой-либо вывод. "
   ]
  },
  {
   "cell_type": "markdown",
   "id": "e3ca0f7e",
   "metadata": {},
   "source": [
    "<div class=\"alert alert-success\">\n",
    "<h2> Комментарий ревьюера 😊 v_2 <a class=\"tocSkip\"> </h2>\n",
    "\n",
    "Верно)"
   ]
  },
  {
   "cell_type": "markdown",
   "id": "93a97192",
   "metadata": {},
   "source": [
    "<div class=\"alert alert-block alert-danger\">\n",
    "<h2> Комментарий ревьюера ⛔️<a class=\"tocSkip\"></h2>\n",
    "<s>\n",
    "С выводом я бы поспорила, если рассмотреть самые многочисленные выборки с 0, 1 и 2-мя детьми - можно увидеть, что чем больше у заемщика детей, тем он хуже платит в срок. "
   ]
  },
  {
   "cell_type": "markdown",
   "id": "e17cf39b",
   "metadata": {
    "deletable": false,
    "editable": false,
    "id": "97be82ca"
   },
   "source": [
    "#### 3.2 Есть ли зависимость между семейным положением и возвратом кредита в срок?"
   ]
  },
  {
   "cell_type": "code",
   "execution_count": 26,
   "id": "286b0093",
   "metadata": {
    "deletable": false,
    "id": "dc3f7ee8"
   },
   "outputs": [
    {
     "data": {
      "text/html": [
       "<div>\n",
       "<style scoped>\n",
       "    .dataframe tbody tr th:only-of-type {\n",
       "        vertical-align: middle;\n",
       "    }\n",
       "\n",
       "    .dataframe tbody tr th {\n",
       "        vertical-align: top;\n",
       "    }\n",
       "\n",
       "    .dataframe thead tr th {\n",
       "        text-align: left;\n",
       "    }\n",
       "\n",
       "    .dataframe thead tr:last-of-type th {\n",
       "        text-align: right;\n",
       "    }\n",
       "</style>\n",
       "<table border=\"1\" class=\"dataframe\">\n",
       "  <thead>\n",
       "    <tr>\n",
       "      <th></th>\n",
       "      <th colspan=\"2\" halign=\"left\">debt</th>\n",
       "      <th>percent_of_deptors</th>\n",
       "    </tr>\n",
       "    <tr>\n",
       "      <th></th>\n",
       "      <th>count</th>\n",
       "      <th>sum</th>\n",
       "      <th></th>\n",
       "    </tr>\n",
       "    <tr>\n",
       "      <th>family_status</th>\n",
       "      <th></th>\n",
       "      <th></th>\n",
       "      <th></th>\n",
       "    </tr>\n",
       "  </thead>\n",
       "  <tbody>\n",
       "    <tr>\n",
       "      <th>Не женат / не замужем</th>\n",
       "      <td>2796</td>\n",
       "      <td>273</td>\n",
       "      <td>9.763948</td>\n",
       "    </tr>\n",
       "    <tr>\n",
       "      <th>гражданский брак</th>\n",
       "      <td>4134</td>\n",
       "      <td>385</td>\n",
       "      <td>9.313014</td>\n",
       "    </tr>\n",
       "    <tr>\n",
       "      <th>женат / замужем</th>\n",
       "      <td>12261</td>\n",
       "      <td>927</td>\n",
       "      <td>7.560558</td>\n",
       "    </tr>\n",
       "    <tr>\n",
       "      <th>в разводе</th>\n",
       "      <td>1189</td>\n",
       "      <td>84</td>\n",
       "      <td>7.064760</td>\n",
       "    </tr>\n",
       "    <tr>\n",
       "      <th>вдовец / вдова</th>\n",
       "      <td>951</td>\n",
       "      <td>63</td>\n",
       "      <td>6.624606</td>\n",
       "    </tr>\n",
       "  </tbody>\n",
       "</table>\n",
       "</div>"
      ],
      "text/plain": [
       "                        debt      percent_of_deptors\n",
       "                       count  sum                   \n",
       "family_status                                       \n",
       "Не женат / не замужем   2796  273           9.763948\n",
       "гражданский брак        4134  385           9.313014\n",
       "женат / замужем        12261  927           7.560558\n",
       "в разводе               1189   84           7.064760\n",
       "вдовец / вдова           951   63           6.624606"
      ]
     },
     "metadata": {},
     "output_type": "display_data"
    }
   ],
   "source": [
    "data_grouped_family=data.groupby('family_status').agg({'debt':['count','sum']})\n",
    "data_grouped_family['percent_of_deptors']=data_grouped_family['debt']['sum']/data_grouped_family['debt']['count']*100\n",
    "display(data_grouped_family.sort_values(by='percent_of_deptors',ascending=False))# Ваш код будет здесь. Вы можете создавать новые ячейки."
   ]
  },
  {
   "cell_type": "markdown",
   "id": "e1ec327d",
   "metadata": {
    "deletable": false,
    "id": "1cef7837"
   },
   "source": [
    "**Вывод:** Семейное положение определенно влияет на возврат кредита в срок. Самой ненадежной считается категория людей, с семейным статусом **'не женат/не замужем'(9.76% от общего кол-во должников в данной категории)**. Затем c небольшим отставанием идут люди, состоящие в **гражданском браке (9.31% от общего кол-во должников в данной категории)**. Недобросовестных заемщиков с семейным статусом **'женат/замужем'** составляет **7.56% от общего кол-во должников в данной категории**. Должников с семейным статусом **'в разводе'** составляет **7.06% от общего кол-во должников в данной категории**. Самой надежной оказалась категория с семейным статусом 'вдовец / вдова' **(6.62% от общего кол-во должников в данной категории)**"
   ]
  },
  {
   "cell_type": "markdown",
   "id": "440d4ee0",
   "metadata": {},
   "source": [
    "<div class=\"alert alert-warning\">\n",
    "<h2> Комментарий ревьюера 🤓<a class=\"tocSkip\"> </h2>\n",
    "\n",
    "В целом, можно отметить, что люди не состоявшие в оф. браке хуже выплачивают кредит. "
   ]
  },
  {
   "cell_type": "markdown",
   "id": "f8104201",
   "metadata": {
    "deletable": false,
    "editable": false,
    "id": "1e8b2fca"
   },
   "source": [
    "#### 3.3 Есть ли зависимость между уровнем дохода и возвратом кредита в срок?"
   ]
  },
  {
   "cell_type": "code",
   "execution_count": 27,
   "id": "5585d60e",
   "metadata": {
    "deletable": false,
    "id": "cd7e3720"
   },
   "outputs": [
    {
     "data": {
      "text/html": [
       "<div>\n",
       "<style scoped>\n",
       "    .dataframe tbody tr th:only-of-type {\n",
       "        vertical-align: middle;\n",
       "    }\n",
       "\n",
       "    .dataframe tbody tr th {\n",
       "        vertical-align: top;\n",
       "    }\n",
       "\n",
       "    .dataframe thead tr th {\n",
       "        text-align: left;\n",
       "    }\n",
       "\n",
       "    .dataframe thead tr:last-of-type th {\n",
       "        text-align: right;\n",
       "    }\n",
       "</style>\n",
       "<table border=\"1\" class=\"dataframe\">\n",
       "  <thead>\n",
       "    <tr>\n",
       "      <th></th>\n",
       "      <th colspan=\"2\" halign=\"left\">debt</th>\n",
       "      <th>percent_of_debtors</th>\n",
       "    </tr>\n",
       "    <tr>\n",
       "      <th></th>\n",
       "      <th>count</th>\n",
       "      <th>sum</th>\n",
       "      <th></th>\n",
       "    </tr>\n",
       "    <tr>\n",
       "      <th>total_income_category</th>\n",
       "      <th></th>\n",
       "      <th></th>\n",
       "      <th></th>\n",
       "    </tr>\n",
       "  </thead>\n",
       "  <tbody>\n",
       "    <tr>\n",
       "      <th>E</th>\n",
       "      <td>22</td>\n",
       "      <td>2</td>\n",
       "      <td>9.090909</td>\n",
       "    </tr>\n",
       "    <tr>\n",
       "      <th>C</th>\n",
       "      <td>15921</td>\n",
       "      <td>1353</td>\n",
       "      <td>8.498210</td>\n",
       "    </tr>\n",
       "    <tr>\n",
       "      <th>A</th>\n",
       "      <td>25</td>\n",
       "      <td>2</td>\n",
       "      <td>8.000000</td>\n",
       "    </tr>\n",
       "    <tr>\n",
       "      <th>B</th>\n",
       "      <td>5014</td>\n",
       "      <td>354</td>\n",
       "      <td>7.060231</td>\n",
       "    </tr>\n",
       "    <tr>\n",
       "      <th>D</th>\n",
       "      <td>349</td>\n",
       "      <td>21</td>\n",
       "      <td>6.017192</td>\n",
       "    </tr>\n",
       "  </tbody>\n",
       "</table>\n",
       "</div>"
      ],
      "text/plain": [
       "                        debt       percent_of_debtors\n",
       "                       count   sum                   \n",
       "total_income_category                                \n",
       "E                         22     2           9.090909\n",
       "C                      15921  1353           8.498210\n",
       "A                         25     2           8.000000\n",
       "B                       5014   354           7.060231\n",
       "D                        349    21           6.017192"
      ]
     },
     "metadata": {},
     "output_type": "display_data"
    }
   ],
   "source": [
    "data_grouped_total_income=data.groupby('total_income_category').agg({'debt':['count','sum']})\n",
    "data_grouped_total_income['percent_of_debtors']=data_grouped_total_income['debt']['sum']/data_grouped_total_income['debt']['count']*100\n",
    "display(data_grouped_total_income.sort_values(by='percent_of_debtors',ascending=False))# Ваш код будет здесь. Вы можете создавать новые ячейки."
   ]
  },
  {
   "cell_type": "markdown",
   "id": "9281735f",
   "metadata": {
    "deletable": false,
    "id": "e8593def"
   },
   "source": [
    "    **Вывод:** Исходя из кол-во выданных кредитов по категориям дохода мы можем сравнить между собой В и С, А и Е, можно сделать вывод, что чем выше уровень дохода, тем надежнее заемщик."
   ]
  },
  {
   "cell_type": "markdown",
   "id": "35f5a055",
   "metadata": {},
   "source": [
    "<div class=\"alert alert-block alert-danger\">\n",
    "<h2> Комментарий ревьюера ⛔️<a class=\"tocSkip\"></h2>\n",
    "<s>\n",
    "В данном примере количество заемщиков во всех категориях кроме B и C несопоставимо меньше, поэтому для выявления зависимости имеет смысл сравнивать только их."
   ]
  },
  {
   "cell_type": "markdown",
   "id": "d5a2c642",
   "metadata": {},
   "source": [
    "<div class=\"alert alert-success\">\n",
    "<h2> Комментарий ревьюера 😊 v_2 <a class=\"tocSkip\"> </h2>\n",
    "\n",
    "👍"
   ]
  },
  {
   "cell_type": "markdown",
   "id": "7d4093a7",
   "metadata": {
    "deletable": false,
    "editable": false,
    "id": "99ecbd1f"
   },
   "source": [
    "#### 3.4 Как разные цели кредита влияют на его возврат в срок?"
   ]
  },
  {
   "cell_type": "code",
   "execution_count": 28,
   "id": "0ba9066b",
   "metadata": {
    "deletable": false,
    "id": "2b687290"
   },
   "outputs": [
    {
     "data": {
      "text/html": [
       "<div>\n",
       "<style scoped>\n",
       "    .dataframe tbody tr th:only-of-type {\n",
       "        vertical-align: middle;\n",
       "    }\n",
       "\n",
       "    .dataframe tbody tr th {\n",
       "        vertical-align: top;\n",
       "    }\n",
       "\n",
       "    .dataframe thead tr th {\n",
       "        text-align: left;\n",
       "    }\n",
       "\n",
       "    .dataframe thead tr:last-of-type th {\n",
       "        text-align: right;\n",
       "    }\n",
       "</style>\n",
       "<table border=\"1\" class=\"dataframe\">\n",
       "  <thead>\n",
       "    <tr>\n",
       "      <th></th>\n",
       "      <th colspan=\"2\" halign=\"left\">debt</th>\n",
       "      <th>percent_of_deptors</th>\n",
       "    </tr>\n",
       "    <tr>\n",
       "      <th></th>\n",
       "      <th>count</th>\n",
       "      <th>sum</th>\n",
       "      <th></th>\n",
       "    </tr>\n",
       "    <tr>\n",
       "      <th>purpose_category</th>\n",
       "      <th></th>\n",
       "      <th></th>\n",
       "      <th></th>\n",
       "    </tr>\n",
       "  </thead>\n",
       "  <tbody>\n",
       "    <tr>\n",
       "      <th>операции с автомобилем</th>\n",
       "      <td>4279</td>\n",
       "      <td>400</td>\n",
       "      <td>9.347978</td>\n",
       "    </tr>\n",
       "    <tr>\n",
       "      <th>получение образования</th>\n",
       "      <td>3988</td>\n",
       "      <td>369</td>\n",
       "      <td>9.252758</td>\n",
       "    </tr>\n",
       "    <tr>\n",
       "      <th>проведение свадьбы</th>\n",
       "      <td>2313</td>\n",
       "      <td>183</td>\n",
       "      <td>7.911803</td>\n",
       "    </tr>\n",
       "    <tr>\n",
       "      <th>операции с недвижимостью</th>\n",
       "      <td>10751</td>\n",
       "      <td>780</td>\n",
       "      <td>7.255139</td>\n",
       "    </tr>\n",
       "  </tbody>\n",
       "</table>\n",
       "</div>"
      ],
      "text/plain": [
       "                           debt      percent_of_deptors\n",
       "                          count  sum                   \n",
       "purpose_category                                       \n",
       "операции с автомобилем     4279  400           9.347978\n",
       "получение образования      3988  369           9.252758\n",
       "проведение свадьбы         2313  183           7.911803\n",
       "операции с недвижимостью  10751  780           7.255139"
      ]
     },
     "metadata": {},
     "output_type": "display_data"
    }
   ],
   "source": [
    "data_grouped_by_purpose=data.groupby('purpose_category').agg({'debt':['count','sum']})\n",
    "data_grouped_by_purpose['percent_of_deptors']=data_grouped_by_purpose['debt']['sum']/data_grouped_by_purpose['debt']['count']*100\n",
    "display(data_grouped_by_purpose.sort_values(by='percent_of_deptors',ascending=False))# Ваш код будет здесь. Вы можете создавать новые ячейки."
   ]
  },
  {
   "cell_type": "markdown",
   "id": "5e4f3f82",
   "metadata": {
    "deletable": false,
    "id": "b4bb2ce6"
   },
   "source": [
    "**Вывод:** Самой **ненадежными** заемщиками считается люди с целью кредита связанной с **автомобилем** **(9.35% от общего кол-во должников в данной категории)**. С небольшим оставанием идет категория с целью кредита связанной с **образованием** **(9.25% от общего кол-во должников в данной категории)**. Недобросовестных заемщиков с целью кредита связанной со **свадьбой** составляет **(7.91% от общего кол-во должников в данной категории)**. Самыми **надежными** заемщиками оказалась категория лиц c целью кредита связанной с **недвижимость** **(7.26% от общего кол-во должников в данной категории)**"
   ]
  },
  {
   "cell_type": "markdown",
   "id": "3c420417",
   "metadata": {},
   "source": [
    "<div class=\"alert alert-success\">\n",
    "<h2> Комментарий ревьюера 😊<a class=\"tocSkip\"> </h2>\n",
    "\n",
    " Верно)"
   ]
  },
  {
   "cell_type": "markdown",
   "id": "4e9bfed6",
   "metadata": {
    "deletable": false,
    "editable": false,
    "id": "09c3ac4c"
   },
   "source": [
    "#### 3.5 Приведите возможные причины появления пропусков в исходных данных."
   ]
  },
  {
   "cell_type": "markdown",
   "id": "48aa8004",
   "metadata": {
    "deletable": false,
    "id": "9da2ceda"
   },
   "source": [
    "*Ответ:* \n",
    "1. Невнимательность пользователя\n",
    "2. Ошибка при форматировании данных.\n",
    "3. Отсутствие информации"
   ]
  },
  {
   "cell_type": "markdown",
   "id": "c0347868",
   "metadata": {},
   "source": [
    "<div class=\"alert alert-success\">\n",
    "<h2> Комментарий ревьюера 😊<a class=\"tocSkip\"> </h2>\n",
    "\n",
    "Так же причиной может быть намеренное сокрытие инф-ции."
   ]
  },
  {
   "cell_type": "markdown",
   "id": "ca43ee7b",
   "metadata": {
    "deletable": false,
    "editable": false,
    "id": "7b0487d6"
   },
   "source": [
    "#### 3.6 Объясните, почему заполнить пропуски медианным значением — лучшее решение для количественных переменных."
   ]
  },
  {
   "cell_type": "markdown",
   "id": "02f5331d",
   "metadata": {
    "deletable": false,
    "id": "7ecf2b8e"
   },
   "source": [
    "*Ответ:* Удаление строк с пропусками в отдельных столбцах несет в себе риски удалить важную информацию. В случае заполнения медианными значениями, мы спокойно сможем проводить какие-либо расчеты без страха того, что наши итоговые значения будут сильно флуктурировать."
   ]
  },
  {
   "cell_type": "markdown",
   "id": "d4a47e8d",
   "metadata": {},
   "source": [
    "<div class=\"alert alert-success\">\n",
    "<h2> Комментарий ревьюера 😊<a class=\"tocSkip\"> </h2>\n",
    "\n",
    "Точно, медиана менее чувствительна к выбросам, чем среднее."
   ]
  },
  {
   "cell_type": "markdown",
   "id": "4a987a6c",
   "metadata": {
    "deletable": false,
    "editable": false,
    "id": "6db5255a"
   },
   "source": [
    "### Шаг 4: общий вывод."
   ]
  },
  {
   "cell_type": "markdown",
   "id": "be5664ee",
   "metadata": {
    "deletable": false,
    "id": "bad65432"
   },
   "source": [
    "**Напишите ваш общий вывод**.Таким образом была получена зависимость различных параметров(кол-во детей, семейное положение,доход,цель кредита) от возврата кредита в срок. Cтоит отметить что люди с большим кол-во детей, с низким ежемесячным доходом и не состоящие в официальном браке хуже всего выплачивают кредит.Кредиты на операции с автомобилем считаются самым ненадежным среди заемщиков. По мимо всего выше перечисленного, стоит отметить, что анализ некоторых таблиц был чересчур неполным ввиду сильного разброса кол-во кредитов по категориям. Так например кол-во кредитов по кол-во детей,либо уровню дохода могли отличаться друг от друга на несколько порядков."
   ]
  },
  {
   "cell_type": "markdown",
   "id": "19147183",
   "metadata": {},
   "source": [
    "<div class=\"alert alert-block alert-danger\">\n",
    "<h2> Комментарий ревьюера ⛔️<a class=\"tocSkip\"></h2>\n",
    "    <s>\n",
    "Общий вывод это главный итог твоей работы, то что мы можем предоставить нашему заказчику. Давай дополним его результатами твоей работы и основными выводами) Можно  начать общий вывод с выявленных при ответе на вопросы зависимостями и рекомендациями заказчику по улучшению сбора данных и скоринга. </div>"
   ]
  },
  {
   "cell_type": "markdown",
   "id": "c6b3738b",
   "metadata": {},
   "source": [
    "<div style=\"border:solid Purple 2px; padding: 40px\">\n",
    "\n",
    "<h2> Общий комментарий ревьюера 😊 v_2<a class=\"tocSkip\"> </h2>\n",
    "    <br/>\n",
    "Александр, спасибо за проект! Успехов в дальнейшем обучении!)\n",
    "    "
   ]
  },
  {
   "cell_type": "markdown",
   "id": "ed36ab82",
   "metadata": {},
   "source": [
    "<div style=\"border:solid Purple 2px; padding: 40px\">\n",
    "\n",
    "<h2> Общий комментарий ревьюера 😊<a class=\"tocSkip\"> </h2>\n",
    "    <br/>\n",
    "Ты проделал большую работу, и все основные задачи в рамках проекта решены, это отличная работа! Осталось немного доработать)   \n",
    " \n",
    "**Желаю удачи и жду твой проект на повторное ревью! Если вдруг у тебя возникнут вопросы, то я с радостью отвечу на них.    😊**\n",
    "    "
   ]
  }
 ],
 "metadata": {
  "ExecuteTimeLog": [
   {
    "duration": 48,
    "start_time": "2023-10-05T11:54:43.037Z"
   },
   {
    "duration": 484,
    "start_time": "2023-10-05T11:54:50.621Z"
   },
   {
    "duration": 30,
    "start_time": "2023-10-05T11:54:51.107Z"
   },
   {
    "duration": 36,
    "start_time": "2023-10-05T11:54:51.139Z"
   },
   {
    "duration": 68,
    "start_time": "2023-10-05T11:54:51.177Z"
   },
   {
    "duration": 60,
    "start_time": "2023-10-05T11:54:51.247Z"
   },
   {
    "duration": 5,
    "start_time": "2023-10-05T11:54:51.309Z"
   },
   {
    "duration": 23,
    "start_time": "2023-10-05T11:54:51.315Z"
   },
   {
    "duration": 15,
    "start_time": "2023-10-05T11:54:51.340Z"
   },
   {
    "duration": 49,
    "start_time": "2023-10-05T11:54:51.356Z"
   },
   {
    "duration": 29,
    "start_time": "2023-10-05T11:54:51.406Z"
   },
   {
    "duration": 46,
    "start_time": "2023-10-05T11:54:51.437Z"
   },
   {
    "duration": 14,
    "start_time": "2023-10-05T11:54:51.484Z"
   },
   {
    "duration": 36,
    "start_time": "2023-10-05T11:54:51.499Z"
   },
   {
    "duration": 53,
    "start_time": "2023-10-05T11:54:51.538Z"
   },
   {
    "duration": 55,
    "start_time": "2023-10-05T11:54:51.593Z"
   },
   {
    "duration": 37,
    "start_time": "2023-10-05T11:54:51.650Z"
   },
   {
    "duration": 73,
    "start_time": "2023-10-05T11:54:51.689Z"
   },
   {
    "duration": 86,
    "start_time": "2023-10-05T11:54:51.763Z"
   },
   {
    "duration": 62,
    "start_time": "2023-10-05T11:54:51.850Z"
   },
   {
    "duration": 47,
    "start_time": "2023-10-05T11:54:51.914Z"
   },
   {
    "duration": 43,
    "start_time": "2023-10-05T11:54:51.963Z"
   },
   {
    "duration": 56,
    "start_time": "2023-10-05T11:54:52.008Z"
   },
   {
    "duration": 69,
    "start_time": "2023-10-05T11:54:52.065Z"
   },
   {
    "duration": 50,
    "start_time": "2023-10-05T11:54:52.135Z"
   },
   {
    "duration": 49,
    "start_time": "2023-10-05T11:54:52.187Z"
   },
   {
    "duration": 68,
    "start_time": "2023-10-05T12:02:40.799Z"
   },
   {
    "duration": 436,
    "start_time": "2023-10-05T12:02:47.979Z"
   },
   {
    "duration": 31,
    "start_time": "2023-10-05T12:02:48.417Z"
   },
   {
    "duration": 23,
    "start_time": "2023-10-05T12:02:48.450Z"
   },
   {
    "duration": 14,
    "start_time": "2023-10-05T12:02:48.474Z"
   },
   {
    "duration": 67,
    "start_time": "2023-10-05T12:02:48.491Z"
   },
   {
    "duration": 4,
    "start_time": "2023-10-05T12:02:48.559Z"
   },
   {
    "duration": 50,
    "start_time": "2023-10-05T12:02:48.565Z"
   },
   {
    "duration": 27,
    "start_time": "2023-10-05T12:02:48.616Z"
   },
   {
    "duration": 20,
    "start_time": "2023-10-05T12:02:48.645Z"
   },
   {
    "duration": 33,
    "start_time": "2023-10-05T12:02:48.667Z"
   },
   {
    "duration": 54,
    "start_time": "2023-10-05T12:02:48.702Z"
   },
   {
    "duration": 10,
    "start_time": "2023-10-05T12:02:48.758Z"
   },
   {
    "duration": 5,
    "start_time": "2023-10-05T12:02:48.769Z"
   },
   {
    "duration": 39,
    "start_time": "2023-10-05T12:02:48.777Z"
   },
   {
    "duration": 41,
    "start_time": "2023-10-05T12:02:48.818Z"
   },
   {
    "duration": 18,
    "start_time": "2023-10-05T12:02:48.861Z"
   },
   {
    "duration": 28,
    "start_time": "2023-10-05T12:02:48.881Z"
   },
   {
    "duration": 50,
    "start_time": "2023-10-05T12:02:48.912Z"
   },
   {
    "duration": 16,
    "start_time": "2023-10-05T12:02:48.964Z"
   },
   {
    "duration": 15,
    "start_time": "2023-10-05T12:02:48.982Z"
   },
   {
    "duration": 22,
    "start_time": "2023-10-05T12:02:48.999Z"
   },
   {
    "duration": 89,
    "start_time": "2023-10-05T12:02:49.022Z"
   },
   {
    "duration": 0,
    "start_time": "2023-10-05T12:02:49.112Z"
   },
   {
    "duration": 0,
    "start_time": "2023-10-05T12:02:49.114Z"
   },
   {
    "duration": 0,
    "start_time": "2023-10-05T12:02:49.115Z"
   },
   {
    "duration": 5,
    "start_time": "2023-10-05T12:02:55.381Z"
   },
   {
    "duration": 5,
    "start_time": "2023-10-05T12:14:45.779Z"
   },
   {
    "duration": 4,
    "start_time": "2023-10-05T12:15:06.206Z"
   },
   {
    "duration": 2443,
    "start_time": "2023-10-05T12:15:38.081Z"
   },
   {
    "duration": 2664,
    "start_time": "2023-10-05T12:16:18.995Z"
   },
   {
    "duration": 3529,
    "start_time": "2023-10-05T12:16:44.372Z"
   },
   {
    "duration": 1983,
    "start_time": "2023-10-05T12:17:28.005Z"
   },
   {
    "duration": 1725,
    "start_time": "2023-10-05T12:17:42.645Z"
   },
   {
    "duration": 566,
    "start_time": "2023-10-05T12:17:50.530Z"
   },
   {
    "duration": 36,
    "start_time": "2023-10-05T12:17:51.100Z"
   },
   {
    "duration": 45,
    "start_time": "2023-10-05T12:17:51.137Z"
   },
   {
    "duration": 56,
    "start_time": "2023-10-05T12:17:51.184Z"
   },
   {
    "duration": 113,
    "start_time": "2023-10-05T12:17:51.242Z"
   },
   {
    "duration": 4,
    "start_time": "2023-10-05T12:17:51.357Z"
   },
   {
    "duration": 74,
    "start_time": "2023-10-05T12:17:51.362Z"
   },
   {
    "duration": 99,
    "start_time": "2023-10-05T12:17:51.441Z"
   },
   {
    "duration": 221,
    "start_time": "2023-10-05T12:17:51.542Z"
   },
   {
    "duration": 138,
    "start_time": "2023-10-05T12:17:51.764Z"
   },
   {
    "duration": 145,
    "start_time": "2023-10-05T12:17:51.903Z"
   },
   {
    "duration": 58,
    "start_time": "2023-10-05T12:17:52.050Z"
   },
   {
    "duration": 176,
    "start_time": "2023-10-05T12:17:52.110Z"
   },
   {
    "duration": 97,
    "start_time": "2023-10-05T12:17:52.288Z"
   },
   {
    "duration": 64,
    "start_time": "2023-10-05T12:17:52.387Z"
   },
   {
    "duration": 33,
    "start_time": "2023-10-05T12:17:52.453Z"
   },
   {
    "duration": 85,
    "start_time": "2023-10-05T12:17:52.487Z"
   },
   {
    "duration": 175,
    "start_time": "2023-10-05T12:17:52.573Z"
   },
   {
    "duration": 159,
    "start_time": "2023-10-05T12:17:52.750Z"
   },
   {
    "duration": 34,
    "start_time": "2023-10-05T12:17:52.911Z"
   },
   {
    "duration": 99,
    "start_time": "2023-10-05T12:17:52.947Z"
   },
   {
    "duration": 1912,
    "start_time": "2023-10-05T12:17:53.048Z"
   },
   {
    "duration": 0,
    "start_time": "2023-10-05T12:17:54.962Z"
   },
   {
    "duration": 0,
    "start_time": "2023-10-05T12:17:54.963Z"
   },
   {
    "duration": 0,
    "start_time": "2023-10-05T12:17:54.965Z"
   },
   {
    "duration": 30,
    "start_time": "2023-10-05T12:31:29.918Z"
   },
   {
    "duration": 445,
    "start_time": "2023-10-05T12:31:50.977Z"
   },
   {
    "duration": 26,
    "start_time": "2023-10-05T12:31:51.424Z"
   },
   {
    "duration": 47,
    "start_time": "2023-10-05T12:31:51.451Z"
   },
   {
    "duration": 44,
    "start_time": "2023-10-05T12:31:51.500Z"
   },
   {
    "duration": 51,
    "start_time": "2023-10-05T12:31:51.546Z"
   },
   {
    "duration": 11,
    "start_time": "2023-10-05T12:31:51.599Z"
   },
   {
    "duration": 30,
    "start_time": "2023-10-05T12:31:51.612Z"
   },
   {
    "duration": 35,
    "start_time": "2023-10-05T12:31:51.644Z"
   },
   {
    "duration": 40,
    "start_time": "2023-10-05T12:31:51.681Z"
   },
   {
    "duration": 27,
    "start_time": "2023-10-05T12:31:51.723Z"
   },
   {
    "duration": 70,
    "start_time": "2023-10-05T12:31:51.752Z"
   },
   {
    "duration": 28,
    "start_time": "2023-10-05T12:31:51.823Z"
   },
   {
    "duration": 41,
    "start_time": "2023-10-05T12:31:51.853Z"
   },
   {
    "duration": 48,
    "start_time": "2023-10-05T12:31:51.897Z"
   },
   {
    "duration": 42,
    "start_time": "2023-10-05T12:31:51.947Z"
   },
   {
    "duration": 37,
    "start_time": "2023-10-05T12:31:51.991Z"
   },
   {
    "duration": 16,
    "start_time": "2023-10-05T12:31:52.035Z"
   },
   {
    "duration": 81,
    "start_time": "2023-10-05T12:31:52.053Z"
   },
   {
    "duration": 14,
    "start_time": "2023-10-05T12:31:52.140Z"
   },
   {
    "duration": 10,
    "start_time": "2023-10-05T12:31:52.156Z"
   },
   {
    "duration": 26,
    "start_time": "2023-10-05T12:31:52.168Z"
   },
   {
    "duration": 111,
    "start_time": "2023-10-05T12:31:52.196Z"
   },
   {
    "duration": 0,
    "start_time": "2023-10-05T12:31:52.309Z"
   },
   {
    "duration": 0,
    "start_time": "2023-10-05T12:31:52.310Z"
   },
   {
    "duration": 0,
    "start_time": "2023-10-05T12:31:52.312Z"
   },
   {
    "duration": 7,
    "start_time": "2023-10-05T12:32:06.546Z"
   },
   {
    "duration": 157,
    "start_time": "2023-10-06T00:44:16.408Z"
   },
   {
    "duration": 55,
    "start_time": "2023-10-06T00:44:37.983Z"
   },
   {
    "duration": 677,
    "start_time": "2023-10-06T00:44:45.158Z"
   },
   {
    "duration": 25,
    "start_time": "2023-10-06T00:44:45.837Z"
   },
   {
    "duration": 18,
    "start_time": "2023-10-06T00:44:45.867Z"
   },
   {
    "duration": 35,
    "start_time": "2023-10-06T00:44:45.888Z"
   },
   {
    "duration": 44,
    "start_time": "2023-10-06T00:44:45.925Z"
   },
   {
    "duration": 4,
    "start_time": "2023-10-06T00:44:45.971Z"
   },
   {
    "duration": 14,
    "start_time": "2023-10-06T00:44:45.977Z"
   },
   {
    "duration": 5,
    "start_time": "2023-10-06T00:44:46.003Z"
   },
   {
    "duration": 44,
    "start_time": "2023-10-06T00:44:46.011Z"
   },
   {
    "duration": 6,
    "start_time": "2023-10-06T00:44:46.056Z"
   },
   {
    "duration": 42,
    "start_time": "2023-10-06T00:44:46.064Z"
   },
   {
    "duration": 13,
    "start_time": "2023-10-06T00:44:46.111Z"
   },
   {
    "duration": 34,
    "start_time": "2023-10-06T00:44:46.125Z"
   },
   {
    "duration": 18,
    "start_time": "2023-10-06T00:44:46.161Z"
   },
   {
    "duration": 49,
    "start_time": "2023-10-06T00:44:46.181Z"
   },
   {
    "duration": 20,
    "start_time": "2023-10-06T00:44:46.231Z"
   },
   {
    "duration": 11,
    "start_time": "2023-10-06T00:44:46.252Z"
   },
   {
    "duration": 45,
    "start_time": "2023-10-06T00:44:46.265Z"
   },
   {
    "duration": 34,
    "start_time": "2023-10-06T00:44:46.316Z"
   },
   {
    "duration": 17,
    "start_time": "2023-10-06T00:44:46.352Z"
   },
   {
    "duration": 18,
    "start_time": "2023-10-06T00:44:46.370Z"
   },
   {
    "duration": 102,
    "start_time": "2023-10-06T00:44:46.390Z"
   },
   {
    "duration": 0,
    "start_time": "2023-10-06T00:44:46.494Z"
   },
   {
    "duration": 0,
    "start_time": "2023-10-06T00:44:46.495Z"
   },
   {
    "duration": 0,
    "start_time": "2023-10-06T00:44:46.497Z"
   },
   {
    "duration": 32,
    "start_time": "2023-10-06T00:46:09.382Z"
   },
   {
    "duration": 6,
    "start_time": "2023-10-06T00:46:37.217Z"
   },
   {
    "duration": 120,
    "start_time": "2023-10-06T01:06:18.237Z"
   },
   {
    "duration": 1626,
    "start_time": "2023-10-06T01:08:12.985Z"
   },
   {
    "duration": 603,
    "start_time": "2023-10-06T01:08:37.987Z"
   },
   {
    "duration": 31,
    "start_time": "2023-10-06T01:08:38.593Z"
   },
   {
    "duration": 139,
    "start_time": "2023-10-06T01:08:38.625Z"
   },
   {
    "duration": 15,
    "start_time": "2023-10-06T01:08:38.766Z"
   },
   {
    "duration": 69,
    "start_time": "2023-10-06T01:08:38.784Z"
   },
   {
    "duration": 44,
    "start_time": "2023-10-06T01:08:38.855Z"
   },
   {
    "duration": 70,
    "start_time": "2023-10-06T01:08:38.901Z"
   },
   {
    "duration": 44,
    "start_time": "2023-10-06T01:08:38.973Z"
   },
   {
    "duration": 23,
    "start_time": "2023-10-06T01:08:39.018Z"
   },
   {
    "duration": 13,
    "start_time": "2023-10-06T01:08:39.048Z"
   },
   {
    "duration": 90,
    "start_time": "2023-10-06T01:08:39.063Z"
   },
   {
    "duration": 9,
    "start_time": "2023-10-06T01:08:39.155Z"
   },
   {
    "duration": 4,
    "start_time": "2023-10-06T01:08:39.166Z"
   },
   {
    "duration": 18,
    "start_time": "2023-10-06T01:08:39.172Z"
   },
   {
    "duration": 41,
    "start_time": "2023-10-06T01:08:39.208Z"
   },
   {
    "duration": 18,
    "start_time": "2023-10-06T01:08:39.251Z"
   },
   {
    "duration": 4,
    "start_time": "2023-10-06T01:08:39.271Z"
   },
   {
    "duration": 16,
    "start_time": "2023-10-06T01:08:39.276Z"
   },
   {
    "duration": 26,
    "start_time": "2023-10-06T01:08:39.293Z"
   },
   {
    "duration": 5,
    "start_time": "2023-10-06T01:08:39.322Z"
   },
   {
    "duration": 29,
    "start_time": "2023-10-06T01:08:39.328Z"
   },
   {
    "duration": 1663,
    "start_time": "2023-10-06T01:08:39.358Z"
   },
   {
    "duration": 0,
    "start_time": "2023-10-06T01:08:41.023Z"
   },
   {
    "duration": 0,
    "start_time": "2023-10-06T01:08:41.024Z"
   },
   {
    "duration": 0,
    "start_time": "2023-10-06T01:08:41.027Z"
   },
   {
    "duration": 1665,
    "start_time": "2023-10-06T01:09:40.825Z"
   },
   {
    "duration": 1508,
    "start_time": "2023-10-06T01:10:12.691Z"
   },
   {
    "duration": 1520,
    "start_time": "2023-10-06T01:10:46.627Z"
   },
   {
    "duration": 561,
    "start_time": "2023-10-06T01:10:58.492Z"
   },
   {
    "duration": 32,
    "start_time": "2023-10-06T01:10:59.055Z"
   },
   {
    "duration": 30,
    "start_time": "2023-10-06T01:10:59.089Z"
   },
   {
    "duration": 66,
    "start_time": "2023-10-06T01:10:59.121Z"
   },
   {
    "duration": 68,
    "start_time": "2023-10-06T01:10:59.190Z"
   },
   {
    "duration": 4,
    "start_time": "2023-10-06T01:10:59.260Z"
   },
   {
    "duration": 17,
    "start_time": "2023-10-06T01:10:59.266Z"
   },
   {
    "duration": 4,
    "start_time": "2023-10-06T01:10:59.285Z"
   },
   {
    "duration": 26,
    "start_time": "2023-10-06T01:10:59.308Z"
   },
   {
    "duration": 9,
    "start_time": "2023-10-06T01:10:59.341Z"
   },
   {
    "duration": 69,
    "start_time": "2023-10-06T01:10:59.352Z"
   },
   {
    "duration": 23,
    "start_time": "2023-10-06T01:10:59.425Z"
   },
   {
    "duration": 6,
    "start_time": "2023-10-06T01:10:59.452Z"
   },
   {
    "duration": 21,
    "start_time": "2023-10-06T01:10:59.460Z"
   },
   {
    "duration": 38,
    "start_time": "2023-10-06T01:10:59.483Z"
   },
   {
    "duration": 28,
    "start_time": "2023-10-06T01:10:59.523Z"
   },
   {
    "duration": 4,
    "start_time": "2023-10-06T01:10:59.553Z"
   },
   {
    "duration": 16,
    "start_time": "2023-10-06T01:10:59.560Z"
   },
   {
    "duration": 13,
    "start_time": "2023-10-06T01:10:59.577Z"
   },
   {
    "duration": 15,
    "start_time": "2023-10-06T01:10:59.592Z"
   },
   {
    "duration": 29,
    "start_time": "2023-10-06T01:10:59.617Z"
   },
   {
    "duration": 1684,
    "start_time": "2023-10-06T01:10:59.648Z"
   },
   {
    "duration": 0,
    "start_time": "2023-10-06T01:11:01.334Z"
   },
   {
    "duration": 1,
    "start_time": "2023-10-06T01:11:01.335Z"
   },
   {
    "duration": 0,
    "start_time": "2023-10-06T01:11:01.337Z"
   },
   {
    "duration": 1555,
    "start_time": "2023-10-06T01:11:59.032Z"
   },
   {
    "duration": 4262,
    "start_time": "2023-10-06T01:12:30.450Z"
   },
   {
    "duration": 7,
    "start_time": "2023-10-06T01:20:21.733Z"
   },
   {
    "duration": 17,
    "start_time": "2023-10-06T01:20:49.340Z"
   },
   {
    "duration": 2517,
    "start_time": "2023-10-06T01:21:20.947Z"
   },
   {
    "duration": 90,
    "start_time": "2023-10-06T01:22:57.523Z"
   },
   {
    "duration": 91,
    "start_time": "2023-10-06T01:23:13.206Z"
   },
   {
    "duration": 93,
    "start_time": "2023-10-06T01:23:40.202Z"
   },
   {
    "duration": 99,
    "start_time": "2023-10-06T01:23:53.665Z"
   },
   {
    "duration": 108,
    "start_time": "2023-10-06T01:24:22.480Z"
   },
   {
    "duration": 105,
    "start_time": "2023-10-06T01:24:44.279Z"
   },
   {
    "duration": 2045,
    "start_time": "2023-10-06T01:25:43.217Z"
   },
   {
    "duration": 1806,
    "start_time": "2023-10-06T01:26:09.087Z"
   },
   {
    "duration": 1836,
    "start_time": "2023-10-06T01:26:28.428Z"
   },
   {
    "duration": 111,
    "start_time": "2023-10-06T01:29:30.942Z"
   },
   {
    "duration": 120,
    "start_time": "2023-10-06T12:09:51.783Z"
   },
   {
    "duration": 5,
    "start_time": "2023-10-06T12:10:47.883Z"
   },
   {
    "duration": 85,
    "start_time": "2023-10-06T12:11:15.191Z"
   },
   {
    "duration": 129,
    "start_time": "2023-10-06T12:11:36.693Z"
   },
   {
    "duration": 614,
    "start_time": "2023-10-06T12:12:22.441Z"
   },
   {
    "duration": 25,
    "start_time": "2023-10-06T12:12:23.058Z"
   },
   {
    "duration": 41,
    "start_time": "2023-10-06T12:12:23.085Z"
   },
   {
    "duration": 24,
    "start_time": "2023-10-06T12:12:23.129Z"
   },
   {
    "duration": 80,
    "start_time": "2023-10-06T12:12:23.155Z"
   },
   {
    "duration": 21,
    "start_time": "2023-10-06T12:12:23.237Z"
   },
   {
    "duration": 39,
    "start_time": "2023-10-06T12:12:23.260Z"
   },
   {
    "duration": 24,
    "start_time": "2023-10-06T12:12:23.301Z"
   },
   {
    "duration": 37,
    "start_time": "2023-10-06T12:12:23.327Z"
   },
   {
    "duration": 34,
    "start_time": "2023-10-06T12:12:23.367Z"
   },
   {
    "duration": 55,
    "start_time": "2023-10-06T12:12:23.402Z"
   },
   {
    "duration": 12,
    "start_time": "2023-10-06T12:12:23.459Z"
   },
   {
    "duration": 37,
    "start_time": "2023-10-06T12:12:23.473Z"
   },
   {
    "duration": 49,
    "start_time": "2023-10-06T12:12:23.512Z"
   },
   {
    "duration": 50,
    "start_time": "2023-10-06T12:12:23.563Z"
   },
   {
    "duration": 20,
    "start_time": "2023-10-06T12:12:23.615Z"
   },
   {
    "duration": 13,
    "start_time": "2023-10-06T12:12:23.637Z"
   },
   {
    "duration": 29,
    "start_time": "2023-10-06T12:12:23.652Z"
   },
   {
    "duration": 19,
    "start_time": "2023-10-06T12:12:23.683Z"
   },
   {
    "duration": 22,
    "start_time": "2023-10-06T12:12:23.705Z"
   },
   {
    "duration": 28,
    "start_time": "2023-10-06T12:12:23.729Z"
   },
   {
    "duration": 89,
    "start_time": "2023-10-06T12:12:23.759Z"
   },
   {
    "duration": 0,
    "start_time": "2023-10-06T12:12:23.849Z"
   },
   {
    "duration": 0,
    "start_time": "2023-10-06T12:12:23.851Z"
   },
   {
    "duration": 0,
    "start_time": "2023-10-06T12:12:23.852Z"
   },
   {
    "duration": 147,
    "start_time": "2023-10-06T12:13:01.590Z"
   },
   {
    "duration": 89,
    "start_time": "2023-10-06T12:17:35.516Z"
   },
   {
    "duration": 5,
    "start_time": "2023-10-06T12:23:18.902Z"
   },
   {
    "duration": 23,
    "start_time": "2023-10-06T12:26:25.183Z"
   },
   {
    "duration": 18,
    "start_time": "2023-10-06T12:27:04.098Z"
   },
   {
    "duration": 27,
    "start_time": "2023-10-06T12:27:27.594Z"
   },
   {
    "duration": 11,
    "start_time": "2023-10-06T12:58:02.002Z"
   },
   {
    "duration": 521,
    "start_time": "2023-10-06T12:59:54.100Z"
   },
   {
    "duration": 110,
    "start_time": "2023-10-06T13:00:45.607Z"
   },
   {
    "duration": 1829,
    "start_time": "2023-10-06T13:01:09.746Z"
   },
   {
    "duration": 13,
    "start_time": "2023-10-06T13:02:02.735Z"
   },
   {
    "duration": 15,
    "start_time": "2023-10-06T13:06:29.290Z"
   },
   {
    "duration": 12,
    "start_time": "2023-10-06T13:06:38.203Z"
   },
   {
    "duration": 70,
    "start_time": "2023-10-06T14:53:46.132Z"
   },
   {
    "duration": 791,
    "start_time": "2023-10-06T14:53:56.415Z"
   },
   {
    "duration": 19,
    "start_time": "2023-10-06T14:53:57.208Z"
   },
   {
    "duration": 22,
    "start_time": "2023-10-06T14:53:57.228Z"
   },
   {
    "duration": 28,
    "start_time": "2023-10-06T14:53:57.252Z"
   },
   {
    "duration": 42,
    "start_time": "2023-10-06T14:53:57.282Z"
   },
   {
    "duration": 2,
    "start_time": "2023-10-06T14:53:57.326Z"
   },
   {
    "duration": 41,
    "start_time": "2023-10-06T14:53:57.330Z"
   },
   {
    "duration": 10,
    "start_time": "2023-10-06T14:53:57.373Z"
   },
   {
    "duration": 15,
    "start_time": "2023-10-06T14:53:57.387Z"
   },
   {
    "duration": 9,
    "start_time": "2023-10-06T14:53:57.403Z"
   },
   {
    "duration": 67,
    "start_time": "2023-10-06T14:53:57.413Z"
   },
   {
    "duration": 9,
    "start_time": "2023-10-06T14:53:57.489Z"
   },
   {
    "duration": 30,
    "start_time": "2023-10-06T14:53:57.500Z"
   },
   {
    "duration": 39,
    "start_time": "2023-10-06T14:53:57.533Z"
   },
   {
    "duration": 40,
    "start_time": "2023-10-06T14:53:57.573Z"
   },
   {
    "duration": 15,
    "start_time": "2023-10-06T14:53:57.614Z"
   },
   {
    "duration": 14,
    "start_time": "2023-10-06T14:53:57.630Z"
   },
   {
    "duration": 44,
    "start_time": "2023-10-06T14:53:57.645Z"
   },
   {
    "duration": 12,
    "start_time": "2023-10-06T14:53:57.690Z"
   },
   {
    "duration": 29,
    "start_time": "2023-10-06T14:53:57.703Z"
   },
   {
    "duration": 50,
    "start_time": "2023-10-06T14:53:57.734Z"
   },
   {
    "duration": 12,
    "start_time": "2023-10-06T14:53:57.789Z"
   },
   {
    "duration": 14,
    "start_time": "2023-10-06T14:53:57.802Z"
   },
   {
    "duration": 53,
    "start_time": "2023-10-06T14:53:57.817Z"
   },
   {
    "duration": 12,
    "start_time": "2023-10-06T14:53:57.872Z"
   },
   {
    "duration": 100,
    "start_time": "2023-10-06T14:58:02.826Z"
   },
   {
    "duration": 10,
    "start_time": "2023-10-06T14:58:26.583Z"
   },
   {
    "duration": 15,
    "start_time": "2023-10-06T15:01:12.738Z"
   },
   {
    "duration": 27,
    "start_time": "2023-10-06T15:02:30.536Z"
   },
   {
    "duration": 20,
    "start_time": "2023-10-06T15:03:46.771Z"
   },
   {
    "duration": 11,
    "start_time": "2023-10-06T15:05:47.557Z"
   },
   {
    "duration": 56,
    "start_time": "2023-10-07T10:39:02.027Z"
   },
   {
    "duration": 1218,
    "start_time": "2023-10-07T10:39:08.725Z"
   },
   {
    "duration": 24,
    "start_time": "2023-10-07T10:39:09.945Z"
   },
   {
    "duration": 52,
    "start_time": "2023-10-07T10:39:09.970Z"
   },
   {
    "duration": 31,
    "start_time": "2023-10-07T10:39:10.024Z"
   },
   {
    "duration": 69,
    "start_time": "2023-10-07T10:39:10.058Z"
   },
   {
    "duration": 4,
    "start_time": "2023-10-07T10:39:10.129Z"
   },
   {
    "duration": 21,
    "start_time": "2023-10-07T10:39:10.135Z"
   },
   {
    "duration": 35,
    "start_time": "2023-10-07T10:39:10.158Z"
   },
   {
    "duration": 34,
    "start_time": "2023-10-07T10:39:10.194Z"
   },
   {
    "duration": 143,
    "start_time": "2023-10-07T10:39:10.230Z"
   },
   {
    "duration": 101,
    "start_time": "2023-10-07T10:39:10.376Z"
   },
   {
    "duration": 11,
    "start_time": "2023-10-07T10:39:10.480Z"
   },
   {
    "duration": 32,
    "start_time": "2023-10-07T10:39:10.493Z"
   },
   {
    "duration": 20,
    "start_time": "2023-10-07T10:39:10.528Z"
   },
   {
    "duration": 26,
    "start_time": "2023-10-07T10:39:10.550Z"
   },
   {
    "duration": 18,
    "start_time": "2023-10-07T10:39:10.578Z"
   },
   {
    "duration": 23,
    "start_time": "2023-10-07T10:39:10.598Z"
   },
   {
    "duration": 19,
    "start_time": "2023-10-07T10:39:10.623Z"
   },
   {
    "duration": 29,
    "start_time": "2023-10-07T10:39:10.644Z"
   },
   {
    "duration": 22,
    "start_time": "2023-10-07T10:39:10.675Z"
   },
   {
    "duration": 49,
    "start_time": "2023-10-07T10:39:10.699Z"
   },
   {
    "duration": 27,
    "start_time": "2023-10-07T10:39:10.750Z"
   },
   {
    "duration": 15,
    "start_time": "2023-10-07T10:39:10.779Z"
   },
   {
    "duration": 22,
    "start_time": "2023-10-07T10:39:10.796Z"
   },
   {
    "duration": 3,
    "start_time": "2023-10-07T10:39:10.824Z"
   },
   {
    "duration": 25,
    "start_time": "2023-10-07T10:40:20.216Z"
   },
   {
    "duration": 16,
    "start_time": "2023-10-07T10:40:48.162Z"
   },
   {
    "duration": 95,
    "start_time": "2023-10-07T10:44:01.218Z"
   },
   {
    "duration": 21,
    "start_time": "2023-10-07T10:44:14.538Z"
   },
   {
    "duration": 16,
    "start_time": "2023-10-07T10:44:27.226Z"
   },
   {
    "duration": 18,
    "start_time": "2023-10-07T10:57:57.209Z"
   },
   {
    "duration": 15,
    "start_time": "2023-10-07T10:58:09.729Z"
   },
   {
    "duration": 20,
    "start_time": "2023-10-07T10:58:31.633Z"
   },
   {
    "duration": 17,
    "start_time": "2023-10-07T10:58:40.761Z"
   },
   {
    "duration": 16,
    "start_time": "2023-10-07T10:58:51.232Z"
   },
   {
    "duration": 15,
    "start_time": "2023-10-07T11:00:38.859Z"
   },
   {
    "duration": 75,
    "start_time": "2023-10-07T11:05:11.523Z"
   },
   {
    "duration": 91,
    "start_time": "2023-10-07T11:05:35.397Z"
   },
   {
    "duration": 25,
    "start_time": "2023-10-07T11:06:06.389Z"
   },
   {
    "duration": 15,
    "start_time": "2023-10-07T11:06:14.357Z"
   },
   {
    "duration": 30,
    "start_time": "2023-10-07T11:18:44.099Z"
   },
   {
    "duration": 14,
    "start_time": "2023-10-07T11:19:00.058Z"
   },
   {
    "duration": 15,
    "start_time": "2023-10-07T11:19:10.033Z"
   },
   {
    "duration": 517,
    "start_time": "2023-10-07T11:48:48.615Z"
   },
   {
    "duration": 28,
    "start_time": "2023-10-07T11:48:49.134Z"
   },
   {
    "duration": 36,
    "start_time": "2023-10-07T11:48:49.164Z"
   },
   {
    "duration": 27,
    "start_time": "2023-10-07T11:48:49.204Z"
   },
   {
    "duration": 46,
    "start_time": "2023-10-07T11:48:49.233Z"
   },
   {
    "duration": 6,
    "start_time": "2023-10-07T11:48:49.281Z"
   },
   {
    "duration": 15,
    "start_time": "2023-10-07T11:48:49.289Z"
   },
   {
    "duration": 9,
    "start_time": "2023-10-07T11:48:49.311Z"
   },
   {
    "duration": 15,
    "start_time": "2023-10-07T11:48:49.322Z"
   },
   {
    "duration": 37,
    "start_time": "2023-10-07T11:48:49.339Z"
   },
   {
    "duration": 69,
    "start_time": "2023-10-07T11:48:49.378Z"
   },
   {
    "duration": 10,
    "start_time": "2023-10-07T11:48:49.449Z"
   },
   {
    "duration": 17,
    "start_time": "2023-10-07T11:48:49.461Z"
   },
   {
    "duration": 13,
    "start_time": "2023-10-07T11:48:49.480Z"
   },
   {
    "duration": 37,
    "start_time": "2023-10-07T11:48:49.495Z"
   },
   {
    "duration": 19,
    "start_time": "2023-10-07T11:48:49.534Z"
   },
   {
    "duration": 4,
    "start_time": "2023-10-07T11:48:49.555Z"
   },
   {
    "duration": 31,
    "start_time": "2023-10-07T11:48:49.561Z"
   },
   {
    "duration": 6,
    "start_time": "2023-10-07T11:48:49.594Z"
   },
   {
    "duration": 16,
    "start_time": "2023-10-07T11:48:49.604Z"
   },
   {
    "duration": 35,
    "start_time": "2023-10-07T11:48:49.622Z"
   },
   {
    "duration": 41,
    "start_time": "2023-10-07T11:48:49.658Z"
   },
   {
    "duration": 25,
    "start_time": "2023-10-07T11:48:49.701Z"
   },
   {
    "duration": 53,
    "start_time": "2023-10-07T11:48:49.728Z"
   },
   {
    "duration": 90,
    "start_time": "2023-10-07T11:48:49.783Z"
   },
   {
    "duration": 22,
    "start_time": "2023-10-07T11:49:00.099Z"
   },
   {
    "duration": 552,
    "start_time": "2023-10-07T11:55:02.088Z"
   },
   {
    "duration": 426,
    "start_time": "2023-10-07T11:55:02.643Z"
   },
   {
    "duration": 215,
    "start_time": "2023-10-07T11:55:03.070Z"
   },
   {
    "duration": 64,
    "start_time": "2023-10-07T11:55:03.288Z"
   },
   {
    "duration": 90,
    "start_time": "2023-10-07T11:55:03.354Z"
   },
   {
    "duration": 4,
    "start_time": "2023-10-07T11:55:03.445Z"
   },
   {
    "duration": 318,
    "start_time": "2023-10-07T11:55:03.451Z"
   },
   {
    "duration": 63,
    "start_time": "2023-10-07T11:55:03.771Z"
   },
   {
    "duration": 31,
    "start_time": "2023-10-07T11:55:03.836Z"
   },
   {
    "duration": 26,
    "start_time": "2023-10-07T11:55:03.870Z"
   },
   {
    "duration": 77,
    "start_time": "2023-10-07T11:55:03.898Z"
   },
   {
    "duration": 34,
    "start_time": "2023-10-07T11:55:03.977Z"
   },
   {
    "duration": 49,
    "start_time": "2023-10-07T11:55:04.014Z"
   },
   {
    "duration": 520,
    "start_time": "2023-10-07T11:55:04.064Z"
   },
   {
    "duration": 67,
    "start_time": "2023-10-07T11:55:04.586Z"
   },
   {
    "duration": 23,
    "start_time": "2023-10-07T11:55:04.655Z"
   },
   {
    "duration": 34,
    "start_time": "2023-10-07T11:55:04.680Z"
   },
   {
    "duration": 50,
    "start_time": "2023-10-07T11:55:04.716Z"
   },
   {
    "duration": 24,
    "start_time": "2023-10-07T11:55:04.768Z"
   },
   {
    "duration": 30,
    "start_time": "2023-10-07T11:55:04.794Z"
   },
   {
    "duration": 47,
    "start_time": "2023-10-07T11:55:04.826Z"
   },
   {
    "duration": 45,
    "start_time": "2023-10-07T11:55:04.874Z"
   },
   {
    "duration": 22,
    "start_time": "2023-10-07T11:55:04.921Z"
   },
   {
    "duration": 81,
    "start_time": "2023-10-07T11:55:04.945Z"
   },
   {
    "duration": 68,
    "start_time": "2023-10-07T11:55:05.028Z"
   },
   {
    "duration": 543,
    "start_time": "2023-10-07T11:55:40.973Z"
   },
   {
    "duration": 29,
    "start_time": "2023-10-07T11:55:41.518Z"
   },
   {
    "duration": 43,
    "start_time": "2023-10-07T11:55:41.549Z"
   },
   {
    "duration": 22,
    "start_time": "2023-10-07T11:55:41.594Z"
   },
   {
    "duration": 57,
    "start_time": "2023-10-07T11:55:41.619Z"
   },
   {
    "duration": 4,
    "start_time": "2023-10-07T11:55:41.678Z"
   },
   {
    "duration": 31,
    "start_time": "2023-10-07T11:55:41.685Z"
   },
   {
    "duration": 5,
    "start_time": "2023-10-07T11:55:41.718Z"
   },
   {
    "duration": 13,
    "start_time": "2023-10-07T11:55:41.725Z"
   },
   {
    "duration": 17,
    "start_time": "2023-10-07T11:55:41.740Z"
   },
   {
    "duration": 61,
    "start_time": "2023-10-07T11:55:41.759Z"
   },
   {
    "duration": 13,
    "start_time": "2023-10-07T11:55:41.822Z"
   },
   {
    "duration": 8,
    "start_time": "2023-10-07T11:55:41.837Z"
   },
   {
    "duration": 25,
    "start_time": "2023-10-07T11:55:41.848Z"
   },
   {
    "duration": 35,
    "start_time": "2023-10-07T11:55:41.875Z"
   },
   {
    "duration": 23,
    "start_time": "2023-10-07T11:55:41.911Z"
   },
   {
    "duration": 3,
    "start_time": "2023-10-07T11:55:41.936Z"
   },
   {
    "duration": 51,
    "start_time": "2023-10-07T11:55:41.941Z"
   },
   {
    "duration": 8,
    "start_time": "2023-10-07T11:55:41.994Z"
   },
   {
    "duration": 15,
    "start_time": "2023-10-07T11:55:42.003Z"
   },
   {
    "duration": 25,
    "start_time": "2023-10-07T11:55:42.020Z"
   },
   {
    "duration": 17,
    "start_time": "2023-10-07T11:55:42.047Z"
   },
   {
    "duration": 22,
    "start_time": "2023-10-07T11:55:42.066Z"
   },
   {
    "duration": 22,
    "start_time": "2023-10-07T11:55:42.090Z"
   },
   {
    "duration": 16,
    "start_time": "2023-10-07T11:55:42.118Z"
   },
   {
    "duration": 465,
    "start_time": "2023-10-07T12:32:41.956Z"
   },
   {
    "duration": 50,
    "start_time": "2023-10-07T12:32:42.424Z"
   },
   {
    "duration": 17,
    "start_time": "2023-10-07T12:32:42.475Z"
   },
   {
    "duration": 10,
    "start_time": "2023-10-07T12:32:42.494Z"
   },
   {
    "duration": 49,
    "start_time": "2023-10-07T12:32:42.505Z"
   },
   {
    "duration": 12,
    "start_time": "2023-10-07T12:32:42.555Z"
   },
   {
    "duration": 12,
    "start_time": "2023-10-07T12:32:42.568Z"
   },
   {
    "duration": 10,
    "start_time": "2023-10-07T12:32:42.582Z"
   },
   {
    "duration": 7,
    "start_time": "2023-10-07T12:32:42.593Z"
   },
   {
    "duration": 5,
    "start_time": "2023-10-07T12:32:42.603Z"
   },
   {
    "duration": 42,
    "start_time": "2023-10-07T12:32:42.610Z"
   },
   {
    "duration": 10,
    "start_time": "2023-10-07T12:32:42.656Z"
   },
   {
    "duration": 11,
    "start_time": "2023-10-07T12:32:42.667Z"
   },
   {
    "duration": 26,
    "start_time": "2023-10-07T12:32:42.679Z"
   },
   {
    "duration": 19,
    "start_time": "2023-10-07T12:32:42.707Z"
   },
   {
    "duration": 22,
    "start_time": "2023-10-07T12:32:42.727Z"
   },
   {
    "duration": 3,
    "start_time": "2023-10-07T12:32:42.750Z"
   },
   {
    "duration": 26,
    "start_time": "2023-10-07T12:32:42.754Z"
   },
   {
    "duration": 12,
    "start_time": "2023-10-07T12:32:42.781Z"
   },
   {
    "duration": 7,
    "start_time": "2023-10-07T12:32:42.794Z"
   },
   {
    "duration": 11,
    "start_time": "2023-10-07T12:32:42.802Z"
   },
   {
    "duration": 14,
    "start_time": "2023-10-07T12:32:42.815Z"
   },
   {
    "duration": 30,
    "start_time": "2023-10-07T12:32:42.830Z"
   },
   {
    "duration": 21,
    "start_time": "2023-10-07T12:32:42.861Z"
   },
   {
    "duration": 13,
    "start_time": "2023-10-07T12:32:42.883Z"
   },
   {
    "duration": 49,
    "start_time": "2023-10-07T14:37:42.257Z"
   },
   {
    "duration": 538,
    "start_time": "2023-10-07T14:37:49.655Z"
   },
   {
    "duration": 30,
    "start_time": "2023-10-07T14:37:50.195Z"
   },
   {
    "duration": 28,
    "start_time": "2023-10-07T14:37:50.227Z"
   },
   {
    "duration": 13,
    "start_time": "2023-10-07T14:37:50.258Z"
   },
   {
    "duration": 50,
    "start_time": "2023-10-07T14:37:50.273Z"
   },
   {
    "duration": 3,
    "start_time": "2023-10-07T14:37:50.325Z"
   },
   {
    "duration": 35,
    "start_time": "2023-10-07T14:37:50.329Z"
   },
   {
    "duration": 16,
    "start_time": "2023-10-07T14:37:50.366Z"
   },
   {
    "duration": 20,
    "start_time": "2023-10-07T14:37:50.383Z"
   },
   {
    "duration": 10,
    "start_time": "2023-10-07T14:37:50.405Z"
   },
   {
    "duration": 47,
    "start_time": "2023-10-07T14:37:50.416Z"
   },
   {
    "duration": 10,
    "start_time": "2023-10-07T14:37:50.464Z"
   },
   {
    "duration": 15,
    "start_time": "2023-10-07T14:37:50.475Z"
   },
   {
    "duration": 27,
    "start_time": "2023-10-07T14:37:50.492Z"
   },
   {
    "duration": 40,
    "start_time": "2023-10-07T14:37:50.521Z"
   },
   {
    "duration": 15,
    "start_time": "2023-10-07T14:37:50.562Z"
   },
   {
    "duration": 3,
    "start_time": "2023-10-07T14:37:50.578Z"
   },
   {
    "duration": 17,
    "start_time": "2023-10-07T14:37:50.583Z"
   },
   {
    "duration": 28,
    "start_time": "2023-10-07T14:37:50.601Z"
   },
   {
    "duration": 4,
    "start_time": "2023-10-07T14:37:50.630Z"
   },
   {
    "duration": 22,
    "start_time": "2023-10-07T14:37:50.635Z"
   },
   {
    "duration": 27,
    "start_time": "2023-10-07T14:37:50.661Z"
   },
   {
    "duration": 13,
    "start_time": "2023-10-07T14:37:50.690Z"
   },
   {
    "duration": 12,
    "start_time": "2023-10-07T14:37:50.704Z"
   },
   {
    "duration": 31,
    "start_time": "2023-10-07T14:37:50.718Z"
   },
   {
    "duration": 23,
    "start_time": "2023-10-07T14:42:03.014Z"
   },
   {
    "duration": 15,
    "start_time": "2023-10-07T14:42:10.740Z"
   },
   {
    "duration": 17,
    "start_time": "2023-10-07T14:42:22.403Z"
   }
  ],
  "colab": {
   "name": "dpp_template_part2.ipynb",
   "provenance": []
  },
  "kernelspec": {
   "display_name": "Python 3 (ipykernel)",
   "language": "python",
   "name": "python3"
  },
  "language_info": {
   "codemirror_mode": {
    "name": "ipython",
    "version": 3
   },
   "file_extension": ".py",
   "mimetype": "text/x-python",
   "name": "python",
   "nbconvert_exporter": "python",
   "pygments_lexer": "ipython3",
   "version": "3.9.5"
  },
  "toc": {
   "base_numbering": 1,
   "nav_menu": {},
   "number_sections": true,
   "sideBar": true,
   "skip_h1_title": true,
   "title_cell": "Table of Contents",
   "title_sidebar": "Contents",
   "toc_cell": false,
   "toc_position": {},
   "toc_section_display": true,
   "toc_window_display": false
  }
 },
 "nbformat": 4,
 "nbformat_minor": 5
}
